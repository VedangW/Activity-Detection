{
 "cells": [
  {
   "cell_type": "code",
   "execution_count": 1,
   "metadata": {},
   "outputs": [],
   "source": [
    "import matplotlib.pyplot as plt\n",
    "%matplotlib inline\n",
    "import cv2\n",
    "import numpy as np\n",
    "import os"
   ]
  },
  {
   "cell_type": "code",
   "execution_count": 2,
   "metadata": {},
   "outputs": [
    {
     "name": "stderr",
     "output_type": "stream",
     "text": [
      "/usr/local/lib/python3.5/dist-packages/h5py/__init__.py:36: FutureWarning: Conversion of the second argument of issubdtype from `float` to `np.floating` is deprecated. In future, it will be treated as `np.float64 == np.dtype(float).type`.\n",
      "  from ._conv import register_converters as _register_converters\n",
      "Using TensorFlow backend.\n"
     ]
    }
   ],
   "source": [
    "from keras import backend as K\n",
    "from keras.layers import Conv2D, Dropout, LSTM, BatchNormalization, Input,Activation, MaxPool2D, Flatten, Dense,TimeDistributed\n",
    "from keras.models import Model, load_model\n",
    "from keras import metrics "
   ]
  },
  {
   "cell_type": "code",
   "execution_count": 3,
   "metadata": {},
   "outputs": [],
   "source": [
    "VIDEOS_DIR = './Videos/'\n",
    "IMAGES_DIR = './Images/'"
   ]
  },
  {
   "cell_type": "code",
   "execution_count": 4,
   "metadata": {},
   "outputs": [
    {
     "name": "stdout",
     "output_type": "stream",
     "text": [
      "['Kicking', 'Riding-Horse', 'Running', 'SkateBoarding', 'Swing-Bench', 'Lifting', 'Swing-Side', 'Walking', 'Golf-Swing']\n"
     ]
    }
   ],
   "source": [
    "import os\n",
    "classes = list(os.listdir(VIDEOS_DIR))\n",
    "print(classes)"
   ]
  },
  {
   "cell_type": "code",
   "execution_count": 5,
   "metadata": {},
   "outputs": [
    {
     "data": {
      "text/plain": [
       "{'Golf-Swing': 8,\n",
       " 'Kicking': 0,\n",
       " 'Lifting': 5,\n",
       " 'Riding-Horse': 1,\n",
       " 'Running': 2,\n",
       " 'SkateBoarding': 3,\n",
       " 'Swing-Bench': 4,\n",
       " 'Swing-Side': 6,\n",
       " 'Walking': 7}"
      ]
     },
     "execution_count": 5,
     "metadata": {},
     "output_type": "execute_result"
    }
   ],
   "source": [
    "class_to_index = {}\n",
    "for i in range(len(classes)):\n",
    "    class_to_index[classes[i]] = i\n",
    "class_to_index"
   ]
  },
  {
   "cell_type": "code",
   "execution_count": 19,
   "metadata": {},
   "outputs": [
    {
     "name": "stdout",
     "output_type": "stream",
     "text": [
      "[['006', '017', '003', '016', '009', '013', '005', '012', '010', '015', '014', '007', '004', '011', '002', '001'], ['006', '003', '009', '005', '010', '007', '004', '002', '008', '001'], ['006', '009', '005', '010', '007', '004', '002', '008', '001'], ['006', '003', '009', '005', '010', '007', '004', '002', '008', '001'], ['006', '017', '003', '016', '009', '013', '005', '012', '010', '015', '014', '007', '004', '011', '002', '008', '001'], ['003', '005', '004', '002', '001'], ['006', '003', '009', '005', '010', '007', '004', '011', '002', '008', '001'], ['006', '017', '003', '016', '009', '013', '005', '012', '010', '015', '014', '007', '019', '004', '011', '018', '002', '008', '001'], ['006', '003', '009', '013', '005', '012', '010', '014', '007', '004', '011', '002', '008', '001']]\n"
     ]
    }
   ],
   "source": [
    "videos = []\n",
    "for x in classes:\n",
    "    videos.append(list(os.listdir(VIDEOS_DIR+x+'/')))\n",
    "print(videos)"
   ]
  },
  {
   "cell_type": "code",
   "execution_count": 7,
   "metadata": {},
   "outputs": [],
   "source": [
    "# Using default 10 images per second\n",
    "def convert_videos_to_images(video_path, image_path):\n",
    "    print(video_path)\n",
    "    cap = cv2.VideoCapture(video_path)\n",
    "\n",
    "    # Check if video opened successfully\n",
    "    if (cap.isOpened()== False): \n",
    "        print(\"Error opening video stream or file\")\n",
    "    count = 0\n",
    "    \n",
    "    while(cap.isOpened()):\n",
    "        # Capture frame-by-frame\n",
    "        ret, frame = cap.read()\n",
    "\n",
    "        if ret == True:\n",
    "            count += 1\n",
    "            name = \"{0:0=3d}\".format(count)\n",
    "            cv2.imwrite(image_path+name+'.png', frame) \n",
    "        else: \n",
    "            break\n",
    "\n",
    "    # When everything done, release the video capture object\n",
    "    cap.release()\n",
    "\n",
    "    print(count)"
   ]
  },
  {
   "cell_type": "code",
   "execution_count": 51,
   "metadata": {},
   "outputs": [
    {
     "name": "stdout",
     "output_type": "stream",
     "text": [
      "./Videos/Kicking/006/5117-8_70113.avi\n",
      "23\n",
      "./Videos/Kicking/017/RF1-16941_70021.avi\n",
      "23\n",
      "./Videos/Kicking/003/3833-27_70006.avi\n",
      "23\n",
      "./Videos/Kicking/016/6351-1_70011.avi\n",
      "23\n",
      "./Videos/Kicking/009/6731-2_70017.avi\n",
      "22\n",
      "./Videos/Kicking/013/5117-8_70350.avi\n",
      "23\n",
      "./Videos/Kicking/005/3949-12_70207.avi\n",
      "23\n",
      "./Videos/Kicking/012/3833-41_70187.avi\n",
      "23\n",
      "./Videos/Kicking/010/3833-15_70577.avi\n",
      "23\n",
      "./Videos/Kicking/015/6063-20_70333.avi\n",
      "23\n",
      "./Videos/Kicking/014/5863-29_70025.avi\n",
      "23\n",
      "./Videos/Kicking/007/6063-21_70056.avi\n"
     ]
    },
    {
     "ename": "KeyboardInterrupt",
     "evalue": "",
     "output_type": "error",
     "traceback": [
      "\u001b[0;31m---------------------------------------------------------------------------\u001b[0m",
      "\u001b[0;31mKeyboardInterrupt\u001b[0m                         Traceback (most recent call last)",
      "\u001b[0;32m<ipython-input-51-cc1c48f8de60>\u001b[0m in \u001b[0;36m<module>\u001b[0;34m()\u001b[0m\n\u001b[1;32m     10\u001b[0m                 \u001b[0mfilelist\u001b[0m\u001b[0;34m.\u001b[0m\u001b[0mremove\u001b[0m\u001b[0;34m(\u001b[0m\u001b[0mfichier\u001b[0m\u001b[0;34m)\u001b[0m\u001b[0;34m\u001b[0m\u001b[0m\n\u001b[1;32m     11\u001b[0m         \u001b[0;32massert\u001b[0m\u001b[0;34m(\u001b[0m\u001b[0mlen\u001b[0m\u001b[0;34m(\u001b[0m\u001b[0mfilelist\u001b[0m\u001b[0;34m)\u001b[0m \u001b[0;34m==\u001b[0m \u001b[0;36m1\u001b[0m\u001b[0;34m)\u001b[0m\u001b[0;34m\u001b[0m\u001b[0m\n\u001b[0;32m---> 12\u001b[0;31m         \u001b[0mconvert_videos_to_images\u001b[0m\u001b[0;34m(\u001b[0m\u001b[0mvideo_r\u001b[0m\u001b[0;34m+\u001b[0m\u001b[0mfilelist\u001b[0m\u001b[0;34m[\u001b[0m\u001b[0;36m0\u001b[0m\u001b[0;34m]\u001b[0m\u001b[0;34m,\u001b[0m \u001b[0mimage_r\u001b[0m\u001b[0;34m)\u001b[0m\u001b[0;34m\u001b[0m\u001b[0m\n\u001b[0m",
      "\u001b[0;32m<ipython-input-50-c11864bc4cc2>\u001b[0m in \u001b[0;36mconvert_videos_to_images\u001b[0;34m(video_path, image_path)\u001b[0m\n\u001b[1;32m     16\u001b[0m             \u001b[0mcount\u001b[0m \u001b[0;34m+=\u001b[0m \u001b[0;36m1\u001b[0m\u001b[0;34m\u001b[0m\u001b[0m\n\u001b[1;32m     17\u001b[0m             \u001b[0mname\u001b[0m \u001b[0;34m=\u001b[0m \u001b[0;34m\"{0:0=3d}\"\u001b[0m\u001b[0;34m.\u001b[0m\u001b[0mformat\u001b[0m\u001b[0;34m(\u001b[0m\u001b[0mcount\u001b[0m\u001b[0;34m)\u001b[0m\u001b[0;34m\u001b[0m\u001b[0m\n\u001b[0;32m---> 18\u001b[0;31m             \u001b[0mcv2\u001b[0m\u001b[0;34m.\u001b[0m\u001b[0mimwrite\u001b[0m\u001b[0;34m(\u001b[0m\u001b[0mimage_path\u001b[0m\u001b[0;34m+\u001b[0m\u001b[0mname\u001b[0m\u001b[0;34m+\u001b[0m\u001b[0;34m'.png'\u001b[0m\u001b[0;34m,\u001b[0m \u001b[0mframe\u001b[0m\u001b[0;34m)\u001b[0m\u001b[0;34m\u001b[0m\u001b[0m\n\u001b[0m\u001b[1;32m     19\u001b[0m         \u001b[0;32melse\u001b[0m\u001b[0;34m:\u001b[0m\u001b[0;34m\u001b[0m\u001b[0m\n\u001b[1;32m     20\u001b[0m             \u001b[0;32mbreak\u001b[0m\u001b[0;34m\u001b[0m\u001b[0m\n",
      "\u001b[0;31mKeyboardInterrupt\u001b[0m: "
     ]
    }
   ],
   "source": [
    "for i in range(len(classes)):\n",
    "    cls = classes[i]\n",
    "    for j in range(len(videos[i])):\n",
    "        vid = videos[i][j]\n",
    "        video_r = VIDEOS_DIR+cls+'/'+ vid +'/'\n",
    "        image_r = IMAGES_DIR+cls+'/'+ vid +'/'\n",
    "        filelist= list(os.listdir(video_r))\n",
    "        for fichier in filelist:\n",
    "            if not(fichier.endswith(\".avi\")):\n",
    "                filelist.remove(fichier)\n",
    "        assert(len(filelist) == 1)\n",
    "        convert_videos_to_images(video_r+filelist[0], image_r)"
   ]
  },
  {
   "cell_type": "code",
   "execution_count": 156,
   "metadata": {},
   "outputs": [
    {
     "name": "stdout",
     "output_type": "stream",
     "text": [
      "./Images/Swing-Side/003/\n",
      "./Images/Swing-Side/005/\n"
     ]
    }
   ],
   "source": [
    "for i in range(len(classes)):\n",
    "    cls = classes[i]\n",
    "    for j in range(len(videos[i])):\n",
    "        vid = videos[i][j]\n",
    "        video_r = VIDEOS_DIR+cls+'/'+ vid +'/'\n",
    "        image_r = IMAGES_DIR+cls+'/'+ vid +'/'\n",
    "        filelist = list(os.listdir(image_r))\n",
    "        if len(filelist) <= 10:\n",
    "            print(image_r)"
   ]
  },
  {
   "cell_type": "code",
   "execution_count": 6,
   "metadata": {},
   "outputs": [],
   "source": [
    "def permute(X,Y):\n",
    "    train_size = X.shape[0]\n",
    "    permutation_train = np.random.permutation(train_size)\n",
    "    X = X[permutation_train]\n",
    "    Y = Y[permutation_train]\n",
    "    return X,Y"
   ]
  },
  {
   "cell_type": "code",
   "execution_count": 7,
   "metadata": {},
   "outputs": [],
   "source": [
    "def load_image(path,image_size):\n",
    "    image = cv2.cvtColor(cv2.imread(path), cv2.COLOR_BGR2RGB)\n",
    "    image = cv2.resize(image, image_size)\n",
    "    return image"
   ]
  },
  {
   "cell_type": "code",
   "execution_count": 159,
   "metadata": {},
   "outputs": [],
   "source": [
    "def build_dataset(image_size):\n",
    "    X_train_images = []\n",
    "    Y_train_images = []\n",
    "    for i in range(len(classes)):\n",
    "        cls = classes[i]\n",
    "        for j in range(len(videos[i])):\n",
    "            vid = videos[i][j]\n",
    "            video_r = VIDEOS_DIR+cls+'/'+ vid +'/'\n",
    "            image_r = IMAGES_DIR+cls+'/'+ vid +'/'\n",
    "            filelist = list(os.listdir(image_r))\n",
    "            #print(sorted(filelist))\n",
    "            for fichier in filelist:\n",
    "                if fichier.endswith(\".png\"):\n",
    "                    image = load_image(image_r+fichier,image_size)\n",
    "                    X_train_images.append(image)\n",
    "                    Y_train_images.append(i)\n",
    "    return permute(np.array(X_train_images), np.array(Y_train_images))"
   ]
  },
  {
   "cell_type": "code",
   "execution_count": 160,
   "metadata": {},
   "outputs": [],
   "source": [
    "X_train, Y_train = build_dataset((172, 172))"
   ]
  },
  {
   "cell_type": "code",
   "execution_count": 161,
   "metadata": {},
   "outputs": [
    {
     "data": {
      "text/plain": [
       "(6858, 172, 172, 3)"
      ]
     },
     "execution_count": 161,
     "metadata": {},
     "output_type": "execute_result"
    }
   ],
   "source": [
    "X_train.shape"
   ]
  },
  {
   "cell_type": "code",
   "execution_count": 162,
   "metadata": {},
   "outputs": [
    {
     "data": {
      "text/plain": [
       "(6858,)"
      ]
     },
     "execution_count": 162,
     "metadata": {},
     "output_type": "execute_result"
    }
   ],
   "source": [
    "Y_train.shape"
   ]
  },
  {
   "cell_type": "code",
   "execution_count": 8,
   "metadata": {},
   "outputs": [],
   "source": [
    "def convert_to_one_hot(Y, C):\n",
    "    Y = np.eye(C)[Y.reshape(-1)]\n",
    "    return Y"
   ]
  },
  {
   "cell_type": "code",
   "execution_count": 164,
   "metadata": {},
   "outputs": [
    {
     "data": {
      "text/plain": [
       "<matplotlib.image.AxesImage at 0x7f45480c9b00>"
      ]
     },
     "execution_count": 164,
     "metadata": {},
     "output_type": "execute_result"
    },
    {
     "data": {
      "image/png": "[encoded data removed]",
      "text/plain": [
       "<matplotlib.figure.Figure at 0x7f456c354e80>"
      ]
     },
     "metadata": {},
     "output_type": "display_data"
    }
   ],
   "source": [
    "plt.imshow(X_train[98])"
   ]
  },
  {
   "cell_type": "code",
   "execution_count": 165,
   "metadata": {},
   "outputs": [
    {
     "data": {
      "text/plain": [
       "dtype('uint8')"
      ]
     },
     "execution_count": 165,
     "metadata": {},
     "output_type": "execute_result"
    }
   ],
   "source": [
    "X_train.dtype"
   ]
  },
  {
   "cell_type": "code",
   "execution_count": 166,
   "metadata": {},
   "outputs": [],
   "source": [
    "def build_model(input_shape):\n",
    "    X_input = Input(input_shape, name = \"Input\")\n",
    "    \n",
    "    X = BatchNormalization(name = 'BatchNorm_1')(X_input)\n",
    "    X = Conv2D(32, (7, 7), strides = (5, 5), name=\"Conv_1a\", padding=\"same\")(X)\n",
    "    X = Activation('relu')(X)\n",
    "    \n",
    "    X = Conv2D(32, (3, 3), name = \"Conv_1b\", padding=\"same\")(X)\n",
    "    X = Activation('relu')(X)\n",
    "    X = MaxPool2D((2, 2), name = \"Pool_1\")(X)\n",
    "    \n",
    "    X = Conv2D(32, (3, 3), name =\"Conv_2\", padding = \"same\")(X)\n",
    "    X = Activation('relu')(X)\n",
    "    X = MaxPool2D((4, 4), name = \"Pool_2\")(X)\n",
    "    \n",
    "    X = Conv2D(8,(1,1), name='Conv_1x1')(X)\n",
    "    \n",
    "    X = Flatten()(X)\n",
    "    \n",
    "    return Model(X_input, X)"
   ]
  },
  {
   "cell_type": "code",
   "execution_count": 167,
   "metadata": {},
   "outputs": [],
   "source": [
    "model = build_model((172, 172, 3))"
   ]
  },
  {
   "cell_type": "code",
   "execution_count": 168,
   "metadata": {},
   "outputs": [
    {
     "name": "stdout",
     "output_type": "stream",
     "text": [
      "_________________________________________________________________\n",
      "Layer (type)                 Output Shape              Param #   \n",
      "=================================================================\n",
      "Input (InputLayer)           (None, 172, 172, 3)       0         \n",
      "_________________________________________________________________\n",
      "BatchNorm_1 (BatchNormalizat (None, 172, 172, 3)       12        \n",
      "_________________________________________________________________\n",
      "Conv_1a (Conv2D)             (None, 35, 35, 32)        4736      \n",
      "_________________________________________________________________\n",
      "activation_7 (Activation)    (None, 35, 35, 32)        0         \n",
      "_________________________________________________________________\n",
      "Conv_1b (Conv2D)             (None, 35, 35, 32)        9248      \n",
      "_________________________________________________________________\n",
      "activation_8 (Activation)    (None, 35, 35, 32)        0         \n",
      "_________________________________________________________________\n",
      "Pool_1 (MaxPooling2D)        (None, 17, 17, 32)        0         \n",
      "_________________________________________________________________\n",
      "Conv_2 (Conv2D)              (None, 17, 17, 32)        9248      \n",
      "_________________________________________________________________\n",
      "activation_9 (Activation)    (None, 17, 17, 32)        0         \n",
      "_________________________________________________________________\n",
      "Pool_2 (MaxPooling2D)        (None, 4, 4, 32)          0         \n",
      "_________________________________________________________________\n",
      "Conv_1x1 (Conv2D)            (None, 4, 4, 8)           264       \n",
      "_________________________________________________________________\n",
      "flatten_3 (Flatten)          (None, 128)               0         \n",
      "=================================================================\n",
      "Total params: 23,508\n",
      "Trainable params: 23,502\n",
      "Non-trainable params: 6\n",
      "_________________________________________________________________\n"
     ]
    }
   ],
   "source": [
    "model.summary()"
   ]
  },
  {
   "cell_type": "code",
   "execution_count": 169,
   "metadata": {},
   "outputs": [],
   "source": [
    "def CNN_model(prev_model):\n",
    "    X = Dense(9,activation='softmax',name='final')(prev_model.output)\n",
    "    return Model(prev_model.input, X)"
   ]
  },
  {
   "cell_type": "code",
   "execution_count": 170,
   "metadata": {},
   "outputs": [
    {
     "name": "stdout",
     "output_type": "stream",
     "text": [
      "_________________________________________________________________\n",
      "Layer (type)                 Output Shape              Param #   \n",
      "=================================================================\n",
      "Input (InputLayer)           (None, 172, 172, 3)       0         \n",
      "_________________________________________________________________\n",
      "BatchNorm_1 (BatchNormalizat (None, 172, 172, 3)       12        \n",
      "_________________________________________________________________\n",
      "Conv_1a (Conv2D)             (None, 35, 35, 32)        4736      \n",
      "_________________________________________________________________\n",
      "activation_7 (Activation)    (None, 35, 35, 32)        0         \n",
      "_________________________________________________________________\n",
      "Conv_1b (Conv2D)             (None, 35, 35, 32)        9248      \n",
      "_________________________________________________________________\n",
      "activation_8 (Activation)    (None, 35, 35, 32)        0         \n",
      "_________________________________________________________________\n",
      "Pool_1 (MaxPooling2D)        (None, 17, 17, 32)        0         \n",
      "_________________________________________________________________\n",
      "Conv_2 (Conv2D)              (None, 17, 17, 32)        9248      \n",
      "_________________________________________________________________\n",
      "activation_9 (Activation)    (None, 17, 17, 32)        0         \n",
      "_________________________________________________________________\n",
      "Pool_2 (MaxPooling2D)        (None, 4, 4, 32)          0         \n",
      "_________________________________________________________________\n",
      "Conv_1x1 (Conv2D)            (None, 4, 4, 8)           264       \n",
      "_________________________________________________________________\n",
      "flatten_3 (Flatten)          (None, 128)               0         \n",
      "_________________________________________________________________\n",
      "final (Dense)                (None, 9)                 1161      \n",
      "=================================================================\n",
      "Total params: 24,669\n",
      "Trainable params: 24,663\n",
      "Non-trainable params: 6\n",
      "_________________________________________________________________\n"
     ]
    }
   ],
   "source": [
    "cnn = CNN_model(model)\n",
    "cnn.summary()"
   ]
  },
  {
   "cell_type": "code",
   "execution_count": 171,
   "metadata": {},
   "outputs": [],
   "source": [
    "cnn.compile(loss='categorical_crossentropy', \n",
    "            metrics=['accuracy'], \n",
    "            optimizer='adam')"
   ]
  },
  {
   "cell_type": "code",
   "execution_count": 172,
   "metadata": {},
   "outputs": [],
   "source": [
    "Y_train_one = convert_to_one_hot(Y_train, 9) "
   ]
  },
  {
   "cell_type": "code",
   "execution_count": 173,
   "metadata": {},
   "outputs": [
    {
     "name": "stdout",
     "output_type": "stream",
     "text": [
      "Train on 6172 samples, validate on 686 samples\n",
      "Epoch 1/5\n",
      "6172/6172 [==============================] - 61s 10ms/step - loss: 1.1971 - acc: 0.5813 - val_loss: 0.3257 - val_acc: 0.9198\n",
      "Epoch 2/5\n",
      "6172/6172 [==============================] - 65s 11ms/step - loss: 0.2124 - acc: 0.9402 - val_loss: 0.0548 - val_acc: 0.9913\n",
      "Epoch 3/5\n",
      "6172/6172 [==============================] - 65s 10ms/step - loss: 0.0548 - acc: 0.9904 - val_loss: 0.0189 - val_acc: 1.0000\n",
      "Epoch 4/5\n",
      "6172/6172 [==============================] - 66s 11ms/step - loss: 0.0151 - acc: 0.9990 - val_loss: 0.0102 - val_acc: 1.0000\n",
      "Epoch 5/5\n",
      "6172/6172 [==============================] - 66s 11ms/step - loss: 0.0077 - acc: 0.9997 - val_loss: 0.0046 - val_acc: 1.0000\n"
     ]
    },
    {
     "data": {
      "text/plain": [
       "<keras.callbacks.History at 0x7f4514e173c8>"
      ]
     },
     "execution_count": 173,
     "metadata": {},
     "output_type": "execute_result"
    }
   ],
   "source": [
    "cnn.fit(X_train, \n",
    "        Y_train_one, \n",
    "        batch_size=128, \n",
    "        epochs=5,\n",
    "        validation_split=0.1)"
   ]
  },
  {
   "cell_type": "code",
   "execution_count": 174,
   "metadata": {},
   "outputs": [],
   "source": [
    "cnn.save('model_3_128_dense.h5')"
   ]
  },
  {
   "cell_type": "markdown",
   "metadata": {},
   "source": [
    "### Test with LSTm"
   ]
  },
  {
   "cell_type": "code",
   "execution_count": 245,
   "metadata": {},
   "outputs": [],
   "source": [
    "def rnn_model(input_shape):\n",
    "    X_input = Input(input_shape)\n",
    "    X = LSTM(64, return_sequences=True)(X_input)\n",
    "    X = LSTM(32, return_sequences=False)(X)\n",
    "    X = Dense(9,activation='softmax')(X)\n",
    "    return Model(X_input, X)"
   ]
  },
  {
   "cell_type": "code",
   "execution_count": 246,
   "metadata": {},
   "outputs": [],
   "source": [
    "rnn = rnn_model((170,128))"
   ]
  },
  {
   "cell_type": "code",
   "execution_count": 247,
   "metadata": {},
   "outputs": [
    {
     "name": "stdout",
     "output_type": "stream",
     "text": [
      "_________________________________________________________________\n",
      "Layer (type)                 Output Shape              Param #   \n",
      "=================================================================\n",
      "input_10 (InputLayer)        (None, 170, 128)          0         \n",
      "_________________________________________________________________\n",
      "lstm_16 (LSTM)               (None, 170, 64)           49408     \n",
      "_________________________________________________________________\n",
      "lstm_17 (LSTM)               (None, 32)                12416     \n",
      "_________________________________________________________________\n",
      "dense_9 (Dense)              (None, 9)                 297       \n",
      "=================================================================\n",
      "Total params: 62,121\n",
      "Trainable params: 62,121\n",
      "Non-trainable params: 0\n",
      "_________________________________________________________________\n"
     ]
    }
   ],
   "source": [
    "rnn.summary()"
   ]
  },
  {
   "cell_type": "code",
   "execution_count": 248,
   "metadata": {},
   "outputs": [],
   "source": [
    "def model_predict(model,images):\n",
    "    output = K.function([model.layers[0].input,K.learning_phase()],\n",
    "                        [model.layers[11].output])\n",
    "    return output([images,0])[0]"
   ]
  },
  {
   "cell_type": "code",
   "execution_count": 250,
   "metadata": {},
   "outputs": [],
   "source": [
    "def pad(X_cnn,max_len):\n",
    "    features_len = X_cnn.shape[1]\n",
    "    length = X_cnn.shape[0]\n",
    "    X_cnn = list(X_cnn)\n",
    "    pad_arr = [0 for i in range(features_len)]\n",
    "    for i in range(max_len-length):\n",
    "        X_cnn.append(pad_arr)\n",
    "    return np.array(X_cnn)    "
   ]
  },
  {
   "cell_type": "code",
   "execution_count": 251,
   "metadata": {},
   "outputs": [],
   "source": [
    "def build_dataset_for_lstm(image_size):\n",
    "    \n",
    "    model = load_model('model_3_128_dense.h5')\n",
    "    \n",
    "    X_train_images = []\n",
    "    Y_train_images = []\n",
    "    pad_len = 170\n",
    "    for i in range(len(classes)):\n",
    "        cls = classes[i]\n",
    "        for j in range(len(videos[i])):\n",
    "            vid = videos[i][j]\n",
    "            video_r = VIDEOS_DIR+cls+'/'+ vid +'/'\n",
    "            image_r = IMAGES_DIR+cls+'/'+ vid +'/'\n",
    "            filelist = sorted(list(os.listdir(image_r)))\n",
    "            X_train_images_class = []\n",
    "            for file in filelist:\n",
    "                if file.endswith(\".png\"):\n",
    "                    image = load_image(image_r+file,image_size)\n",
    "                    X_train_images_class.append(image)\n",
    "            \n",
    "            X_cnn = model_predict(model,np.array(X_train_images_class))\n",
    "            X_cnn = pad(X_cnn,pad_len) # Pad till 170 frames\n",
    "            X_train_images.append(X_cnn)\n",
    "            assert(X_train_images[0].shape == (170,128))\n",
    "            Y_train_images.append(i)    \n",
    "            \n",
    "            print(\"Processed\",videos[i][j],\"of\",\"class\",classes[i])\n",
    "    return X_train_images,Y_train_images       "
   ]
  },
  {
   "cell_type": "code",
   "execution_count": 214,
   "metadata": {},
   "outputs": [
    {
     "name": "stdout",
     "output_type": "stream",
     "text": [
      "Processed 006 of class Kicking\n",
      "Processed 017 of class Kicking\n",
      "Processed 003 of class Kicking\n",
      "Processed 016 of class Kicking\n",
      "Processed 009 of class Kicking\n",
      "Processed 013 of class Kicking\n",
      "Processed 005 of class Kicking\n",
      "Processed 012 of class Kicking\n",
      "Processed 010 of class Kicking\n",
      "Processed 015 of class Kicking\n",
      "Processed 014 of class Kicking\n",
      "Processed 007 of class Kicking\n",
      "Processed 004 of class Kicking\n",
      "Processed 011 of class Kicking\n",
      "Processed 002 of class Kicking\n",
      "Processed 001 of class Kicking\n",
      "Processed 006 of class Riding-Horse\n",
      "Processed 003 of class Riding-Horse\n",
      "Processed 009 of class Riding-Horse\n",
      "Processed 005 of class Riding-Horse\n",
      "Processed 010 of class Riding-Horse\n",
      "Processed 007 of class Riding-Horse\n",
      "Processed 004 of class Riding-Horse\n",
      "Processed 002 of class Riding-Horse\n",
      "Processed 008 of class Riding-Horse\n",
      "Processed 001 of class Riding-Horse\n",
      "Processed 006 of class Running\n",
      "Processed 009 of class Running\n",
      "Processed 005 of class Running\n",
      "Processed 010 of class Running\n",
      "Processed 007 of class Running\n",
      "Processed 004 of class Running\n",
      "Processed 002 of class Running\n",
      "Processed 008 of class Running\n",
      "Processed 001 of class Running\n",
      "Processed 006 of class SkateBoarding\n",
      "Processed 003 of class SkateBoarding\n",
      "Processed 009 of class SkateBoarding\n",
      "Processed 005 of class SkateBoarding\n",
      "Processed 010 of class SkateBoarding\n",
      "Processed 007 of class SkateBoarding\n",
      "Processed 004 of class SkateBoarding\n",
      "Processed 002 of class SkateBoarding\n",
      "Processed 008 of class SkateBoarding\n",
      "Processed 001 of class SkateBoarding\n",
      "Processed 006 of class Swing-Bench\n",
      "Processed 017 of class Swing-Bench\n",
      "Processed 003 of class Swing-Bench\n",
      "Processed 016 of class Swing-Bench\n",
      "Processed 009 of class Swing-Bench\n",
      "Processed 013 of class Swing-Bench\n",
      "Processed 005 of class Swing-Bench\n",
      "Processed 012 of class Swing-Bench\n",
      "Processed 010 of class Swing-Bench\n",
      "Processed 015 of class Swing-Bench\n",
      "Processed 014 of class Swing-Bench\n",
      "Processed 007 of class Swing-Bench\n",
      "Processed 004 of class Swing-Bench\n",
      "Processed 011 of class Swing-Bench\n",
      "Processed 002 of class Swing-Bench\n",
      "Processed 008 of class Swing-Bench\n",
      "Processed 001 of class Swing-Bench\n",
      "Processed 003 of class Lifting\n",
      "Processed 005 of class Lifting\n",
      "Processed 004 of class Lifting\n",
      "Processed 002 of class Lifting\n",
      "Processed 001 of class Lifting\n",
      "Processed 006 of class Swing-Side\n",
      "Processed 003 of class Swing-Side\n",
      "Processed 009 of class Swing-Side\n",
      "Processed 005 of class Swing-Side\n",
      "Processed 010 of class Swing-Side\n",
      "Processed 007 of class Swing-Side\n",
      "Processed 004 of class Swing-Side\n",
      "Processed 011 of class Swing-Side\n",
      "Processed 002 of class Swing-Side\n",
      "Processed 008 of class Swing-Side\n",
      "Processed 001 of class Swing-Side\n",
      "Processed 006 of class Walking\n",
      "Processed 017 of class Walking\n",
      "Processed 003 of class Walking\n",
      "Processed 016 of class Walking\n",
      "Processed 009 of class Walking\n",
      "Processed 013 of class Walking\n",
      "Processed 005 of class Walking\n",
      "Processed 012 of class Walking\n",
      "Processed 010 of class Walking\n",
      "Processed 015 of class Walking\n",
      "Processed 014 of class Walking\n",
      "Processed 007 of class Walking\n",
      "Processed 019 of class Walking\n",
      "Processed 004 of class Walking\n",
      "Processed 011 of class Walking\n",
      "Processed 018 of class Walking\n",
      "Processed 002 of class Walking\n",
      "Processed 008 of class Walking\n",
      "Processed 001 of class Walking\n",
      "Processed 006 of class Golf-Swing\n",
      "Processed 003 of class Golf-Swing\n",
      "Processed 009 of class Golf-Swing\n",
      "Processed 013 of class Golf-Swing\n",
      "Processed 005 of class Golf-Swing\n",
      "Processed 012 of class Golf-Swing\n",
      "Processed 010 of class Golf-Swing\n",
      "Processed 014 of class Golf-Swing\n",
      "Processed 007 of class Golf-Swing\n",
      "Processed 004 of class Golf-Swing\n",
      "Processed 011 of class Golf-Swing\n",
      "Processed 002 of class Golf-Swing\n",
      "Processed 008 of class Golf-Swing\n",
      "Processed 001 of class Golf-Swing\n"
     ]
    }
   ],
   "source": [
    "X,Y = build_dataset_for_lstm((172,172))"
   ]
  },
  {
   "cell_type": "code",
   "execution_count": 226,
   "metadata": {},
   "outputs": [
    {
     "name": "stdout",
     "output_type": "stream",
     "text": [
      "Shape X (111, 170, 128)\n",
      "Shape Y (111, 9)\n"
     ]
    }
   ],
   "source": [
    "X = np.array(X)\n",
    "Y = convert_to_one_hot(np.array(Y),9)\n",
    "print(\"Shape X\",X.shape)\n",
    "print(\"Shape Y\",Y.shape)"
   ]
  },
  {
   "cell_type": "markdown",
   "metadata": {},
   "source": [
    "## RNN Model Start"
   ]
  },
  {
   "cell_type": "code",
   "execution_count": 252,
   "metadata": {},
   "outputs": [],
   "source": [
    "rnn.compile(loss='categorical_crossentropy', \n",
    "            metrics=['accuracy'], \n",
    "            optimizer='adam')"
   ]
  },
  {
   "cell_type": "code",
   "execution_count": 253,
   "metadata": {},
   "outputs": [],
   "source": [
    "X_train_rnn,Y_train_rnn = permute(X,Y)\n",
    "#X_train_rnn,X_test_rnn,Y_train_rnn,Y_test_rnn = test_train_split(X,Y)"
   ]
  },
  {
   "cell_type": "code",
   "execution_count": 254,
   "metadata": {},
   "outputs": [
    {
     "name": "stdout",
     "output_type": "stream",
     "text": [
      "Train on 99 samples, validate on 12 samples\n",
      "Epoch 1/10\n",
      "99/99 [==============================] - 3s 28ms/step - loss: 2.1978 - acc: 0.2121 - val_loss: 2.1981 - val_acc: 0.0000e+00\n",
      "Epoch 2/10\n",
      "99/99 [==============================] - 0s 2ms/step - loss: 2.1953 - acc: 0.1616 - val_loss: 2.1990 - val_acc: 0.0000e+00\n",
      "Epoch 3/10\n",
      "99/99 [==============================] - 0s 2ms/step - loss: 2.1929 - acc: 0.1717 - val_loss: 2.2000 - val_acc: 0.0000e+00\n",
      "Epoch 4/10\n",
      "99/99 [==============================] - 0s 2ms/step - loss: 2.1905 - acc: 0.1717 - val_loss: 2.2011 - val_acc: 0.0000e+00\n",
      "Epoch 5/10\n",
      "99/99 [==============================] - 0s 2ms/step - loss: 2.1880 - acc: 0.1717 - val_loss: 2.2022 - val_acc: 0.0000e+00\n",
      "Epoch 6/10\n",
      "99/99 [==============================] - 0s 2ms/step - loss: 2.1852 - acc: 0.1717 - val_loss: 2.2035 - val_acc: 0.0000e+00\n",
      "Epoch 7/10\n",
      "99/99 [==============================] - 0s 3ms/step - loss: 2.1821 - acc: 0.1717 - val_loss: 2.2050 - val_acc: 0.0000e+00\n",
      "Epoch 8/10\n",
      "99/99 [==============================] - 0s 2ms/step - loss: 2.1786 - acc: 0.1717 - val_loss: 2.2067 - val_acc: 0.0000e+00\n",
      "Epoch 9/10\n",
      "99/99 [==============================] - 0s 2ms/step - loss: 2.1747 - acc: 0.1717 - val_loss: 2.2087 - val_acc: 0.0000e+00\n",
      "Epoch 10/10\n",
      "99/99 [==============================] - 0s 3ms/step - loss: 2.1703 - acc: 0.1717 - val_loss: 2.2111 - val_acc: 0.0000e+00\n"
     ]
    },
    {
     "data": {
      "text/plain": [
       "<keras.callbacks.History at 0x7f445bbafe10>"
      ]
     },
     "execution_count": 254,
     "metadata": {},
     "output_type": "execute_result"
    }
   ],
   "source": [
    "rnn.fit(X_train_rnn, Y_train_rnn, epochs=10, batch_size = X_train_rnn.shape[0], validation_split=0.1)"
   ]
  },
  {
   "cell_type": "markdown",
   "metadata": {},
   "source": [
    "### END TO END"
   ]
  },
  {
   "cell_type": "code",
   "execution_count": 37,
   "metadata": {},
   "outputs": [],
   "source": [
    "def end_to_end(input_shape):\n",
    "    X_input = Input(input_shape)\n",
    "    X = TimeDistributed(BatchNormalization(name = 'BatchNorm_1'))(X_input)\n",
    "    X = TimeDistributed(Conv2D(32, (7, 7), strides = (5, 5), name=\"Conv_1a\", padding=\"same\"))(X)\n",
    "    X = TimeDistributed(Activation('relu'))(X)\n",
    "    \n",
    "    X = TimeDistributed(Conv2D(32, (3, 3), name = \"Conv_1b\", padding=\"same\"))(X)\n",
    "    X = TimeDistributed(Activation('relu'))(X)\n",
    "    X = TimeDistributed(MaxPool2D((2, 2), name = \"Pool_1\"))(X)\n",
    "    \n",
    "    X = TimeDistributed(Conv2D(32, (3, 3), name =\"Conv_2\", padding = \"same\"))(X)\n",
    "    X = TimeDistributed(Activation('relu'))(X)\n",
    "    X = TimeDistributed(MaxPool2D((4, 4), name = \"Pool_2\"))(X)\n",
    "    \n",
    "    X = TimeDistributed(Conv2D(4,(1,1), name='Conv_1x1'))(X)\n",
    "    \n",
    "    X = TimeDistributed(Flatten())(X)\n",
    "    \n",
    "    X = LSTM(32, return_sequences=True)(X)\n",
    "    X = LSTM(32, return_sequences=False)(X)\n",
    "    X = Dense(9, activation='softmax')(X)\n",
    "    \n",
    "    return Model(X_input,X)\n",
    "    "
   ]
  },
  {
   "cell_type": "code",
   "execution_count": 38,
   "metadata": {},
   "outputs": [],
   "source": [
    "e2e = end_to_end((170, 172, 172, 3))"
   ]
  },
  {
   "cell_type": "code",
   "execution_count": 39,
   "metadata": {},
   "outputs": [
    {
     "name": "stdout",
     "output_type": "stream",
     "text": [
      "_________________________________________________________________\n",
      "Layer (type)                 Output Shape              Param #   \n",
      "=================================================================\n",
      "input_3 (InputLayer)         (None, 170, 172, 172, 3)  0         \n",
      "_________________________________________________________________\n",
      "time_distributed_23 (TimeDis (None, 170, 172, 172, 3)  12        \n",
      "_________________________________________________________________\n",
      "time_distributed_24 (TimeDis (None, 170, 35, 35, 32)   4736      \n",
      "_________________________________________________________________\n",
      "time_distributed_25 (TimeDis (None, 170, 35, 35, 32)   0         \n",
      "_________________________________________________________________\n",
      "time_distributed_26 (TimeDis (None, 170, 35, 35, 32)   9248      \n",
      "_________________________________________________________________\n",
      "time_distributed_27 (TimeDis (None, 170, 35, 35, 32)   0         \n",
      "_________________________________________________________________\n",
      "time_distributed_28 (TimeDis (None, 170, 17, 17, 32)   0         \n",
      "_________________________________________________________________\n",
      "time_distributed_29 (TimeDis (None, 170, 17, 17, 32)   9248      \n",
      "_________________________________________________________________\n",
      "time_distributed_30 (TimeDis (None, 170, 17, 17, 32)   0         \n",
      "_________________________________________________________________\n",
      "time_distributed_31 (TimeDis (None, 170, 4, 4, 32)     0         \n",
      "_________________________________________________________________\n",
      "time_distributed_32 (TimeDis (None, 170, 4, 4, 4)      132       \n",
      "_________________________________________________________________\n",
      "time_distributed_33 (TimeDis (None, 170, 64)           0         \n",
      "_________________________________________________________________\n",
      "lstm_5 (LSTM)                (None, 170, 32)           12416     \n",
      "_________________________________________________________________\n",
      "lstm_6 (LSTM)                (None, 32)                8320      \n",
      "_________________________________________________________________\n",
      "dense_3 (Dense)              (None, 9)                 297       \n",
      "=================================================================\n",
      "Total params: 44,409\n",
      "Trainable params: 44,403\n",
      "Non-trainable params: 6\n",
      "_________________________________________________________________\n"
     ]
    }
   ],
   "source": [
    "e2e.summary()"
   ]
  },
  {
   "cell_type": "code",
   "execution_count": 40,
   "metadata": {},
   "outputs": [],
   "source": [
    "def pad_end_to_end(X_train_images_class,pad_len):\n",
    "    length = X_train_images_class.shape[0]\n",
    "    pad_arr = np.zeros((X_train_images_class.shape[1:4]),dtype=np.uint8)\n",
    "    X_train_images_class = list(X_train_images_class)\n",
    "    for i in range(pad_len-length):\n",
    "        X_train_images_class.append(pad_arr)\n",
    "    return np.array(X_train_images_class,dtype=np.uint8)"
   ]
  },
  {
   "cell_type": "code",
   "execution_count": 15,
   "metadata": {},
   "outputs": [
    {
     "name": "stdout",
     "output_type": "stream",
     "text": [
      "uint8\n"
     ]
    }
   ],
   "source": [
    "a = np.array([[1],[1]],dtype=np.uint8)\n",
    "x = pad_end_to_end(a,5)\n",
    "print(x.dtype)"
   ]
  },
  {
   "cell_type": "code",
   "execution_count": 27,
   "metadata": {},
   "outputs": [],
   "source": [
    "def build_dataset_end_to_end(image_size, pad_len = 170):\n",
    "    X_train_images = []\n",
    "    Y_train_images = []\n",
    "    for i in range(len(classes)):\n",
    "        cls = classes[i]\n",
    "        for j in range(len(videos[i])):\n",
    "            vid = videos[i][j]\n",
    "            video_r = VIDEOS_DIR+cls+'/'+ vid +'/'\n",
    "            image_r = IMAGES_DIR+cls+'/'+ vid +'/'\n",
    "            filelist = sorted(list(os.listdir(image_r)))\n",
    "            X_train_images_class = []\n",
    "            for file in filelist:\n",
    "                if file.endswith(\".png\"):\n",
    "                    image = load_image(image_r+file,image_size)\n",
    "                    X_train_images_class.append(image)\n",
    "            X_train_images_class = pad_end_to_end(np.array(X_train_images_class,dtype=np.uint8),pad_len) # Pad till 170 frames\n",
    "            assert(X_train_images_class.shape == (170,172, 172, 3))\n",
    "            X_train_images.append(X_train_images_class)\n",
    "            Y_train_images.append(i)    \n",
    "            print(\"Processed\",videos[i][j],\"of\",\"class\",classes[i])\n",
    "    return np.array(X_train_images,dtype=np.uint8),np.array(Y_train_images,dtype=np.uint8)"
   ]
  },
  {
   "cell_type": "code",
   "execution_count": 28,
   "metadata": {},
   "outputs": [
    {
     "name": "stdout",
     "output_type": "stream",
     "text": [
      "Processed 006 of class Kicking\n",
      "Processed 017 of class Kicking\n",
      "Processed 003 of class Kicking\n",
      "Processed 016 of class Kicking\n",
      "Processed 009 of class Kicking\n",
      "Processed 013 of class Kicking\n",
      "Processed 005 of class Kicking\n",
      "Processed 012 of class Kicking\n",
      "Processed 010 of class Kicking\n",
      "Processed 015 of class Kicking\n",
      "Processed 014 of class Kicking\n",
      "Processed 007 of class Kicking\n",
      "Processed 004 of class Kicking\n",
      "Processed 011 of class Kicking\n",
      "Processed 002 of class Kicking\n",
      "Processed 001 of class Kicking\n",
      "Processed 006 of class Riding-Horse\n",
      "Processed 003 of class Riding-Horse\n",
      "Processed 009 of class Riding-Horse\n",
      "Processed 005 of class Riding-Horse\n",
      "Processed 010 of class Riding-Horse\n",
      "Processed 007 of class Riding-Horse\n",
      "Processed 004 of class Riding-Horse\n",
      "Processed 002 of class Riding-Horse\n",
      "Processed 008 of class Riding-Horse\n",
      "Processed 001 of class Riding-Horse\n",
      "Processed 006 of class Running\n",
      "Processed 009 of class Running\n",
      "Processed 005 of class Running\n",
      "Processed 010 of class Running\n",
      "Processed 007 of class Running\n",
      "Processed 004 of class Running\n",
      "Processed 002 of class Running\n",
      "Processed 008 of class Running\n",
      "Processed 001 of class Running\n",
      "Processed 006 of class SkateBoarding\n",
      "Processed 003 of class SkateBoarding\n",
      "Processed 009 of class SkateBoarding\n",
      "Processed 005 of class SkateBoarding\n",
      "Processed 010 of class SkateBoarding\n",
      "Processed 007 of class SkateBoarding\n",
      "Processed 004 of class SkateBoarding\n",
      "Processed 002 of class SkateBoarding\n",
      "Processed 008 of class SkateBoarding\n",
      "Processed 001 of class SkateBoarding\n",
      "Processed 006 of class Swing-Bench\n",
      "Processed 017 of class Swing-Bench\n",
      "Processed 003 of class Swing-Bench\n",
      "Processed 016 of class Swing-Bench\n",
      "Processed 009 of class Swing-Bench\n",
      "Processed 013 of class Swing-Bench\n",
      "Processed 005 of class Swing-Bench\n",
      "Processed 012 of class Swing-Bench\n",
      "Processed 010 of class Swing-Bench\n",
      "Processed 015 of class Swing-Bench\n",
      "Processed 014 of class Swing-Bench\n",
      "Processed 007 of class Swing-Bench\n",
      "Processed 004 of class Swing-Bench\n",
      "Processed 011 of class Swing-Bench\n",
      "Processed 002 of class Swing-Bench\n",
      "Processed 008 of class Swing-Bench\n",
      "Processed 001 of class Swing-Bench\n",
      "Processed 003 of class Lifting\n",
      "Processed 005 of class Lifting\n",
      "Processed 004 of class Lifting\n",
      "Processed 002 of class Lifting\n",
      "Processed 001 of class Lifting\n",
      "Processed 006 of class Swing-Side\n",
      "Processed 003 of class Swing-Side\n",
      "Processed 009 of class Swing-Side\n",
      "Processed 005 of class Swing-Side\n",
      "Processed 010 of class Swing-Side\n",
      "Processed 007 of class Swing-Side\n",
      "Processed 004 of class Swing-Side\n",
      "Processed 011 of class Swing-Side\n",
      "Processed 002 of class Swing-Side\n",
      "Processed 008 of class Swing-Side\n",
      "Processed 001 of class Swing-Side\n",
      "Processed 006 of class Walking\n",
      "Processed 017 of class Walking\n",
      "Processed 003 of class Walking\n",
      "Processed 016 of class Walking\n",
      "Processed 009 of class Walking\n",
      "Processed 013 of class Walking\n",
      "Processed 005 of class Walking\n",
      "Processed 012 of class Walking\n",
      "Processed 010 of class Walking\n",
      "Processed 015 of class Walking\n",
      "Processed 014 of class Walking\n",
      "Processed 007 of class Walking\n",
      "Processed 019 of class Walking\n",
      "Processed 004 of class Walking\n",
      "Processed 011 of class Walking\n",
      "Processed 018 of class Walking\n",
      "Processed 002 of class Walking\n",
      "Processed 008 of class Walking\n",
      "Processed 001 of class Walking\n",
      "Processed 006 of class Golf-Swing\n",
      "Processed 003 of class Golf-Swing\n",
      "Processed 009 of class Golf-Swing\n",
      "Processed 013 of class Golf-Swing\n",
      "Processed 005 of class Golf-Swing\n",
      "Processed 012 of class Golf-Swing\n",
      "Processed 010 of class Golf-Swing\n",
      "Processed 014 of class Golf-Swing\n",
      "Processed 007 of class Golf-Swing\n",
      "Processed 004 of class Golf-Swing\n",
      "Processed 011 of class Golf-Swing\n",
      "Processed 002 of class Golf-Swing\n",
      "Processed 008 of class Golf-Swing\n",
      "Processed 001 of class Golf-Swing\n"
     ]
    }
   ],
   "source": [
    "X,Y = build_dataset_end_to_end((172, 172))"
   ]
  },
  {
   "cell_type": "code",
   "execution_count": 30,
   "metadata": {},
   "outputs": [
    {
     "name": "stdout",
     "output_type": "stream",
     "text": [
      "(111, 170, 172, 172, 3)\n",
      "(111, 9)\n"
     ]
    }
   ],
   "source": [
    "Y = convert_to_one_hot(Y,9)\n",
    "print(X.shape)\n",
    "print(Y.shape)"
   ]
  },
  {
   "cell_type": "code",
   "execution_count": 41,
   "metadata": {},
   "outputs": [],
   "source": [
    "e2e.compile(loss='categorical_crossentropy', \n",
    "            metrics=['accuracy'], \n",
    "            optimizer='adam')"
   ]
  },
  {
   "cell_type": "code",
   "execution_count": 34,
   "metadata": {},
   "outputs": [],
   "source": [
    "X_train_e2e,Y_train_e2e = permute(X,Y)"
   ]
  },
  {
   "cell_type": "code",
   "execution_count": 43,
   "metadata": {},
   "outputs": [
    {
     "name": "stdout",
     "output_type": "stream",
     "text": [
      "Train on 105 samples, validate on 6 samples\n",
      "Epoch 1/5\n",
      "105/105 [==============================] - 183s 2s/step - loss: 2.1602 - acc: 0.1524 - val_loss: 2.2254 - val_acc: 0.0000e+00\n",
      "Epoch 2/5\n",
      "105/105 [==============================] - 188s 2s/step - loss: 2.1568 - acc: 0.1810 - val_loss: 2.2610 - val_acc: 0.0000e+00\n",
      "Epoch 3/5\n",
      "105/105 [==============================] - 177s 2s/step - loss: 2.1478 - acc: 0.1810 - val_loss: 2.1901 - val_acc: 0.0000e+00\n",
      "Epoch 4/5\n",
      "105/105 [==============================] - 191s 2s/step - loss: 2.1417 - acc: 0.1810 - val_loss: 2.1716 - val_acc: 0.0000e+00\n",
      "Epoch 5/5\n",
      "105/105 [==============================] - 180s 2s/step - loss: 2.1377 - acc: 0.1810 - val_loss: 2.2136 - val_acc: 0.0000e+00\n"
     ]
    },
    {
     "data": {
      "text/plain": [
       "<keras.callbacks.History at 0x7f37c6febd68>"
      ]
     },
     "execution_count": 43,
     "metadata": {},
     "output_type": "execute_result"
    }
   ],
   "source": [
    "e2e.fit(X_train_e2e, Y_train_e2e, epochs=5, batch_size = 16, validation_split=0.05)"
   ]
  },
  {
   "cell_type": "code",
   "execution_count": null,
   "metadata": {},
   "outputs": [],
   "source": []
  }
 ],
 "metadata": {
  "kernelspec": {
   "display_name": "Python 3",
   "language": "python",
   "name": "python3"
  },
  "language_info": {
   "codemirror_mode": {
    "name": "ipython",
    "version": 3
   },
   "file_extension": ".py",
   "mimetype": "text/x-python",
   "name": "python",
   "nbconvert_exporter": "python",
   "pygments_lexer": "ipython3",
   "version": "3.5.2"
  }
 },
 "nbformat": 4,
 "nbformat_minor": 2
}
