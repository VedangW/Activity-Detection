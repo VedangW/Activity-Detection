{
 "cells": [
  {
   "cell_type": "code",
   "execution_count": 14,
   "metadata": {},
   "outputs": [
    {
     "name": "stderr",
     "output_type": "stream",
     "text": [
      "/usr/local/lib/python3.5/dist-packages/h5py/__init__.py:36: FutureWarning: Conversion of the second argument of issubdtype from `float` to `np.floating` is deprecated. In future, it will be treated as `np.float64 == np.dtype(float).type`.\n",
      "  from ._conv import register_converters as _register_converters\n",
      "Using TensorFlow backend.\n"
     ]
    }
   ],
   "source": [
    "import matplotlib.pyplot as plt\n",
    "%matplotlib inline\n",
    "import cv2\n",
    "import numpy as np\n",
    "import os\n",
    "from keras import backend as K\n",
    "from keras.layers import Conv2D, Dropout, LSTM, BatchNormalization, Input,Activation, MaxPool2D, Flatten, Dense,TimeDistributed\n",
    "from keras.models import Model, load_model\n",
    "from keras import metrics "
   ]
  },
  {
   "cell_type": "code",
   "execution_count": 15,
   "metadata": {},
   "outputs": [],
   "source": [
    "VIDEOS_DIR = './Videos/'\n",
    "IMAGES_DIR = './Images/'"
   ]
  },
  {
   "cell_type": "code",
   "execution_count": 16,
   "metadata": {},
   "outputs": [
    {
     "name": "stdout",
     "output_type": "stream",
     "text": [
      "['Kicking', 'Riding-Horse', 'Running', 'SkateBoarding', 'Swing-Bench', 'Lifting', 'Swing-Side', 'Walking', 'Golf-Swing']\n"
     ]
    }
   ],
   "source": [
    "classes = list(os.listdir(VIDEOS_DIR))\n",
    "print(classes)"
   ]
  },
  {
   "cell_type": "code",
   "execution_count": 17,
   "metadata": {},
   "outputs": [
    {
     "data": {
      "text/plain": [
       "{'Golf-Swing': 8,\n",
       " 'Kicking': 0,\n",
       " 'Lifting': 5,\n",
       " 'Riding-Horse': 1,\n",
       " 'Running': 2,\n",
       " 'SkateBoarding': 3,\n",
       " 'Swing-Bench': 4,\n",
       " 'Swing-Side': 6,\n",
       " 'Walking': 7}"
      ]
     },
     "execution_count": 17,
     "metadata": {},
     "output_type": "execute_result"
    }
   ],
   "source": [
    "class_to_index = {}\n",
    "for i in range(len(classes)):\n",
    "    class_to_index[classes[i]] = i\n",
    "class_to_index"
   ]
  },
  {
   "cell_type": "code",
   "execution_count": 18,
   "metadata": {},
   "outputs": [
    {
     "name": "stdout",
     "output_type": "stream",
     "text": [
      "[['006', '017', '003', '016', '009', '013', '005', '012', '010', '015', '014', '007', '004', '011', '002', '001'], ['006', '003', '009', '005', '010', '007', '004', '002', '008', '001'], ['006', '009', '005', '010', '007', '004', '002', '008', '001'], ['006', '003', '009', '005', '010', '007', '004', '002', '008', '001'], ['006', '017', '003', '016', '009', '013', '005', '012', '010', '015', '014', '007', '004', '011', '002', '008', '001'], ['003', '005', '004', '002', '001'], ['006', '003', '009', '005', '010', '007', '004', '011', '002', '008', '001'], ['006', '017', '003', '016', '009', '013', '005', '012', '010', '015', '014', '007', '019', '004', '011', '018', '002', '008', '001'], ['006', '003', '009', '013', '005', '012', '010', '014', '007', '004', '011', '002', '008', '001']]\n"
     ]
    }
   ],
   "source": [
    "videos = []\n",
    "for x in classes:\n",
    "    videos.append(list(os.listdir(VIDEOS_DIR+x+'/')))\n",
    "print(videos)"
   ]
  },
  {
   "cell_type": "code",
   "execution_count": 12,
   "metadata": {},
   "outputs": [],
   "source": [
    "# Using default 10 images per second\n",
    "def convert_videos_to_images(video_path, image_path):\n",
    "    print(video_path)\n",
    "    cap = cv2.VideoCapture(video_path)\n",
    "\n",
    "    # Check if video opened successfully\n",
    "    if (cap.isOpened()== False): \n",
    "        print(\"Error opening video stream or file\")\n",
    "    count = 0\n",
    "    \n",
    "    while(cap.isOpened()):\n",
    "        # Capture frame-by-frame\n",
    "        ret, frame = cap.read()\n",
    "\n",
    "        if ret == True:\n",
    "            count += 1\n",
    "            name = \"{0:0=3d}\".format(count)\n",
    "            cv2.imwrite(image_path+name+'.png', frame) \n",
    "        else: \n",
    "            break\n",
    "\n",
    "    # When everything done, release the video capture object\n",
    "    cap.release()\n",
    "\n",
    "    print(count)"
   ]
  },
  {
   "cell_type": "code",
   "execution_count": 51,
   "metadata": {},
   "outputs": [
    {
     "name": "stdout",
     "output_type": "stream",
     "text": [
      "./Videos/Kicking/006/5117-8_70113.avi\n",
      "23\n",
      "./Videos/Kicking/017/RF1-16941_70021.avi\n",
      "23\n",
      "./Videos/Kicking/003/3833-27_70006.avi\n",
      "23\n",
      "./Videos/Kicking/016/6351-1_70011.avi\n",
      "23\n",
      "./Videos/Kicking/009/6731-2_70017.avi\n",
      "22\n",
      "./Videos/Kicking/013/5117-8_70350.avi\n",
      "23\n",
      "./Videos/Kicking/005/3949-12_70207.avi\n",
      "23\n",
      "./Videos/Kicking/012/3833-41_70187.avi\n",
      "23\n",
      "./Videos/Kicking/010/3833-15_70577.avi\n",
      "23\n",
      "./Videos/Kicking/015/6063-20_70333.avi\n",
      "23\n",
      "./Videos/Kicking/014/5863-29_70025.avi\n",
      "23\n",
      "./Videos/Kicking/007/6063-21_70056.avi\n"
     ]
    },
    {
     "ename": "KeyboardInterrupt",
     "evalue": "",
     "output_type": "error",
     "traceback": [
      "\u001b[0;31m---------------------------------------------------------------------------\u001b[0m",
      "\u001b[0;31mKeyboardInterrupt\u001b[0m                         Traceback (most recent call last)",
      "\u001b[0;32m<ipython-input-51-cc1c48f8de60>\u001b[0m in \u001b[0;36m<module>\u001b[0;34m()\u001b[0m\n\u001b[1;32m     10\u001b[0m                 \u001b[0mfilelist\u001b[0m\u001b[0;34m.\u001b[0m\u001b[0mremove\u001b[0m\u001b[0;34m(\u001b[0m\u001b[0mfichier\u001b[0m\u001b[0;34m)\u001b[0m\u001b[0;34m\u001b[0m\u001b[0m\n\u001b[1;32m     11\u001b[0m         \u001b[0;32massert\u001b[0m\u001b[0;34m(\u001b[0m\u001b[0mlen\u001b[0m\u001b[0;34m(\u001b[0m\u001b[0mfilelist\u001b[0m\u001b[0;34m)\u001b[0m \u001b[0;34m==\u001b[0m \u001b[0;36m1\u001b[0m\u001b[0;34m)\u001b[0m\u001b[0;34m\u001b[0m\u001b[0m\n\u001b[0;32m---> 12\u001b[0;31m         \u001b[0mconvert_videos_to_images\u001b[0m\u001b[0;34m(\u001b[0m\u001b[0mvideo_r\u001b[0m\u001b[0;34m+\u001b[0m\u001b[0mfilelist\u001b[0m\u001b[0;34m[\u001b[0m\u001b[0;36m0\u001b[0m\u001b[0;34m]\u001b[0m\u001b[0;34m,\u001b[0m \u001b[0mimage_r\u001b[0m\u001b[0;34m)\u001b[0m\u001b[0;34m\u001b[0m\u001b[0m\n\u001b[0m",
      "\u001b[0;32m<ipython-input-50-c11864bc4cc2>\u001b[0m in \u001b[0;36mconvert_videos_to_images\u001b[0;34m(video_path, image_path)\u001b[0m\n\u001b[1;32m     16\u001b[0m             \u001b[0mcount\u001b[0m \u001b[0;34m+=\u001b[0m \u001b[0;36m1\u001b[0m\u001b[0;34m\u001b[0m\u001b[0m\n\u001b[1;32m     17\u001b[0m             \u001b[0mname\u001b[0m \u001b[0;34m=\u001b[0m \u001b[0;34m\"{0:0=3d}\"\u001b[0m\u001b[0;34m.\u001b[0m\u001b[0mformat\u001b[0m\u001b[0;34m(\u001b[0m\u001b[0mcount\u001b[0m\u001b[0;34m)\u001b[0m\u001b[0;34m\u001b[0m\u001b[0m\n\u001b[0;32m---> 18\u001b[0;31m             \u001b[0mcv2\u001b[0m\u001b[0;34m.\u001b[0m\u001b[0mimwrite\u001b[0m\u001b[0;34m(\u001b[0m\u001b[0mimage_path\u001b[0m\u001b[0;34m+\u001b[0m\u001b[0mname\u001b[0m\u001b[0;34m+\u001b[0m\u001b[0;34m'.png'\u001b[0m\u001b[0;34m,\u001b[0m \u001b[0mframe\u001b[0m\u001b[0;34m)\u001b[0m\u001b[0;34m\u001b[0m\u001b[0m\n\u001b[0m\u001b[1;32m     19\u001b[0m         \u001b[0;32melse\u001b[0m\u001b[0;34m:\u001b[0m\u001b[0;34m\u001b[0m\u001b[0m\n\u001b[1;32m     20\u001b[0m             \u001b[0;32mbreak\u001b[0m\u001b[0;34m\u001b[0m\u001b[0m\n",
      "\u001b[0;31mKeyboardInterrupt\u001b[0m: "
     ]
    }
   ],
   "source": [
    "for i in range(len(classes)):\n",
    "    cls = classes[i]\n",
    "    for j in range(len(videos[i])):\n",
    "        vid = videos[i][j]\n",
    "        video_r = VIDEOS_DIR+cls+'/'+ vid +'/'\n",
    "        image_r = IMAGES_DIR+cls+'/'+ vid +'/'\n",
    "        filelist= list(os.listdir(video_r))\n",
    "        for fichier in filelist:\n",
    "            if not(fichier.endswith(\".avi\")):\n",
    "                filelist.remove(fichier)\n",
    "        assert(len(filelist) == 1)\n",
    "        convert_videos_to_images(video_r+filelist[0], image_r)"
   ]
  },
  {
   "cell_type": "code",
   "execution_count": 156,
   "metadata": {},
   "outputs": [
    {
     "name": "stdout",
     "output_type": "stream",
     "text": [
      "./Images/Swing-Side/003/\n",
      "./Images/Swing-Side/005/\n"
     ]
    }
   ],
   "source": [
    "for i in range(len(classes)):\n",
    "    cls = classes[i]\n",
    "    for j in range(len(videos[i])):\n",
    "        vid = videos[i][j]\n",
    "        video_r = VIDEOS_DIR+cls+'/'+ vid +'/'\n",
    "        image_r = IMAGES_DIR+cls+'/'+ vid +'/'\n",
    "        filelist = list(os.listdir(image_r))\n",
    "        if len(filelist) <= 10:\n",
    "            print(image_r)"
   ]
  },
  {
   "cell_type": "code",
   "execution_count": 19,
   "metadata": {},
   "outputs": [],
   "source": [
    "def permute(X,Y):\n",
    "    train_size = X.shape[0]\n",
    "    permutation_train = np.random.permutation(train_size)\n",
    "    X = X[permutation_train]\n",
    "    Y = Y[permutation_train]\n",
    "    return X,Y"
   ]
  },
  {
   "cell_type": "code",
   "execution_count": 20,
   "metadata": {},
   "outputs": [],
   "source": [
    "def load_image(path,image_size):\n",
    "    image = cv2.cvtColor(cv2.imread(path), cv2.COLOR_BGR2RGB)\n",
    "    image = cv2.resize(image, image_size)\n",
    "    return image"
   ]
  },
  {
   "cell_type": "code",
   "execution_count": 15,
   "metadata": {},
   "outputs": [],
   "source": [
    "def build_dataset(image_size):\n",
    "    X_train_images = []\n",
    "    Y_train_images = []\n",
    "    for i in range(len(classes)):\n",
    "        cls = classes[i]\n",
    "        for j in range(len(videos[i])):\n",
    "            vid = videos[i][j]\n",
    "            video_r = VIDEOS_DIR+cls+'/'+ vid +'/'\n",
    "            image_r = IMAGES_DIR+cls+'/'+ vid +'/'\n",
    "            filelist = list(os.listdir(image_r))\n",
    "            #print(sorted(filelist))\n",
    "            X_train_images_video = []\n",
    "            for fichier in filelist:\n",
    "                if fichier.endswith(\".png\"):\n",
    "                    image = load_image(image_r+fichier,image_size)\n",
    "                    X_train_images_video.append(image)\n",
    "            permutation = np.random.permutation(len(X_train_images_video))\n",
    "            X_train_images_video = np.array(X_train_images_video)[permutation]\n",
    "            X_train_images += list(X_train_images_video[:10])\n",
    "            Y_train_images += [i]*10\n",
    "    return permute(np.array(X_train_images), np.array(Y_train_images))"
   ]
  },
  {
   "cell_type": "code",
   "execution_count": 16,
   "metadata": {},
   "outputs": [],
   "source": [
    "X_train, Y_train = build_dataset((172, 172))"
   ]
  },
  {
   "cell_type": "code",
   "execution_count": 17,
   "metadata": {},
   "outputs": [
    {
     "data": {
      "text/plain": [
       "(1097, 172, 172, 3)"
      ]
     },
     "execution_count": 17,
     "metadata": {},
     "output_type": "execute_result"
    }
   ],
   "source": [
    "X_train.shape"
   ]
  },
  {
   "cell_type": "code",
   "execution_count": 18,
   "metadata": {},
   "outputs": [
    {
     "data": {
      "text/plain": [
       "(1097,)"
      ]
     },
     "execution_count": 18,
     "metadata": {},
     "output_type": "execute_result"
    }
   ],
   "source": [
    "Y_train.shape"
   ]
  },
  {
   "cell_type": "code",
   "execution_count": 21,
   "metadata": {},
   "outputs": [],
   "source": [
    "def convert_to_one_hot(Y, C):\n",
    "    Y = np.eye(C)[Y.reshape(-1)]\n",
    "    return Y"
   ]
  },
  {
   "cell_type": "code",
   "execution_count": 20,
   "metadata": {},
   "outputs": [
    {
     "data": {
      "text/plain": [
       "<matplotlib.image.AxesImage at 0x7f350f732048>"
      ]
     },
     "execution_count": 20,
     "metadata": {},
     "output_type": "execute_result"
    },
    {
     "data": {
      "image/png": "[encoded data removed]",
      "text/plain": [
       "<matplotlib.figure.Figure at 0x7f350f54d390>"
      ]
     },
     "metadata": {},
     "output_type": "display_data"
    }
   ],
   "source": [
    "plt.imshow(X_train[98])"
   ]
  },
  {
   "cell_type": "code",
   "execution_count": 21,
   "metadata": {},
   "outputs": [
    {
     "data": {
      "text/plain": [
       "dtype('uint8')"
      ]
     },
     "execution_count": 21,
     "metadata": {},
     "output_type": "execute_result"
    }
   ],
   "source": [
    "X_train.dtype"
   ]
  },
  {
   "cell_type": "code",
   "execution_count": 37,
   "metadata": {},
   "outputs": [],
   "source": [
    "def build_model(input_shape):\n",
    "    X_input = Input(input_shape, name = \"Input\")\n",
    "    \n",
    "    X = BatchNormalization(name = 'BatchNorm_1')(X_input)\n",
    "    X = Conv2D(32, (7, 7), strides = (5, 5), name=\"Conv_1a\", padding=\"same\")(X)\n",
    "    X = Activation('relu')(X)\n",
    "    \n",
    "    X = Conv2D(32, (3, 3), name = \"Conv_1b\", padding=\"same\")(X)\n",
    "    X = Activation('relu')(X)\n",
    "    X = MaxPool2D((2, 2), name = \"Pool_1\")(X)\n",
    "    X = Dropout(0.2)(X)\n",
    "    \n",
    "    X = Conv2D(32, (3, 3), name =\"Conv_2\", padding = \"same\")(X)\n",
    "    X = Activation('relu')(X)\n",
    "    X = MaxPool2D((4, 4), name = \"Pool_2\")(X)\n",
    "    X = Dropout(0.2)(X)\n",
    "    \n",
    "    X = Conv2D(8,(1,1), name='Conv_1x1')(X)\n",
    "    \n",
    "    X = Flatten()(X)\n",
    "    X = Dropout(0.2)(X)\n",
    "    \n",
    "    return Model(X_input, X)"
   ]
  },
  {
   "cell_type": "code",
   "execution_count": 38,
   "metadata": {},
   "outputs": [],
   "source": [
    "model = build_model((172, 172, 3))"
   ]
  },
  {
   "cell_type": "code",
   "execution_count": 39,
   "metadata": {},
   "outputs": [
    {
     "name": "stdout",
     "output_type": "stream",
     "text": [
      "_________________________________________________________________\n",
      "Layer (type)                 Output Shape              Param #   \n",
      "=================================================================\n",
      "Input (InputLayer)           (None, 172, 172, 3)       0         \n",
      "_________________________________________________________________\n",
      "BatchNorm_1 (BatchNormalizat (None, 172, 172, 3)       12        \n",
      "_________________________________________________________________\n",
      "Conv_1a (Conv2D)             (None, 35, 35, 32)        4736      \n",
      "_________________________________________________________________\n",
      "activation_1 (Activation)    (None, 35, 35, 32)        0         \n",
      "_________________________________________________________________\n",
      "Conv_1b (Conv2D)             (None, 35, 35, 32)        9248      \n",
      "_________________________________________________________________\n",
      "activation_2 (Activation)    (None, 35, 35, 32)        0         \n",
      "_________________________________________________________________\n",
      "Pool_1 (MaxPooling2D)        (None, 17, 17, 32)        0         \n",
      "_________________________________________________________________\n",
      "dropout_1 (Dropout)          (None, 17, 17, 32)        0         \n",
      "_________________________________________________________________\n",
      "Conv_2 (Conv2D)              (None, 17, 17, 32)        9248      \n",
      "_________________________________________________________________\n",
      "activation_3 (Activation)    (None, 17, 17, 32)        0         \n",
      "_________________________________________________________________\n",
      "Pool_2 (MaxPooling2D)        (None, 4, 4, 32)          0         \n",
      "_________________________________________________________________\n",
      "dropout_2 (Dropout)          (None, 4, 4, 32)          0         \n",
      "_________________________________________________________________\n",
      "Conv_1x1 (Conv2D)            (None, 4, 4, 8)           264       \n",
      "_________________________________________________________________\n",
      "flatten_1 (Flatten)          (None, 128)               0         \n",
      "_________________________________________________________________\n",
      "dropout_3 (Dropout)          (None, 128)               0         \n",
      "=================================================================\n",
      "Total params: 23,508\n",
      "Trainable params: 23,502\n",
      "Non-trainable params: 6\n",
      "_________________________________________________________________\n"
     ]
    }
   ],
   "source": [
    "model.summary()"
   ]
  },
  {
   "cell_type": "code",
   "execution_count": 40,
   "metadata": {},
   "outputs": [],
   "source": [
    "def CNN_model(prev_model):\n",
    "    X = Dense(9,activation='softmax',name='final')(prev_model.output)\n",
    "    return Model(prev_model.input, X)"
   ]
  },
  {
   "cell_type": "code",
   "execution_count": 41,
   "metadata": {},
   "outputs": [
    {
     "name": "stdout",
     "output_type": "stream",
     "text": [
      "_________________________________________________________________\n",
      "Layer (type)                 Output Shape              Param #   \n",
      "=================================================================\n",
      "Input (InputLayer)           (None, 172, 172, 3)       0         \n",
      "_________________________________________________________________\n",
      "BatchNorm_1 (BatchNormalizat (None, 172, 172, 3)       12        \n",
      "_________________________________________________________________\n",
      "Conv_1a (Conv2D)             (None, 35, 35, 32)        4736      \n",
      "_________________________________________________________________\n",
      "activation_1 (Activation)    (None, 35, 35, 32)        0         \n",
      "_________________________________________________________________\n",
      "Conv_1b (Conv2D)             (None, 35, 35, 32)        9248      \n",
      "_________________________________________________________________\n",
      "activation_2 (Activation)    (None, 35, 35, 32)        0         \n",
      "_________________________________________________________________\n",
      "Pool_1 (MaxPooling2D)        (None, 17, 17, 32)        0         \n",
      "_________________________________________________________________\n",
      "dropout_1 (Dropout)          (None, 17, 17, 32)        0         \n",
      "_________________________________________________________________\n",
      "Conv_2 (Conv2D)              (None, 17, 17, 32)        9248      \n",
      "_________________________________________________________________\n",
      "activation_3 (Activation)    (None, 17, 17, 32)        0         \n",
      "_________________________________________________________________\n",
      "Pool_2 (MaxPooling2D)        (None, 4, 4, 32)          0         \n",
      "_________________________________________________________________\n",
      "dropout_2 (Dropout)          (None, 4, 4, 32)          0         \n",
      "_________________________________________________________________\n",
      "Conv_1x1 (Conv2D)            (None, 4, 4, 8)           264       \n",
      "_________________________________________________________________\n",
      "flatten_1 (Flatten)          (None, 128)               0         \n",
      "_________________________________________________________________\n",
      "dropout_3 (Dropout)          (None, 128)               0         \n",
      "_________________________________________________________________\n",
      "final (Dense)                (None, 9)                 1161      \n",
      "=================================================================\n",
      "Total params: 24,669\n",
      "Trainable params: 24,663\n",
      "Non-trainable params: 6\n",
      "_________________________________________________________________\n"
     ]
    }
   ],
   "source": [
    "cnn = CNN_model(model)\n",
    "cnn.summary()"
   ]
  },
  {
   "cell_type": "code",
   "execution_count": 42,
   "metadata": {},
   "outputs": [],
   "source": [
    "cnn.compile(loss='categorical_crossentropy', \n",
    "            metrics=['accuracy'], \n",
    "            optimizer='adam')"
   ]
  },
  {
   "cell_type": "code",
   "execution_count": 27,
   "metadata": {},
   "outputs": [],
   "source": [
    "Y_train_one = convert_to_one_hot(Y_train, 9) "
   ]
  },
  {
   "cell_type": "code",
   "execution_count": 35,
   "metadata": {},
   "outputs": [
    {
     "name": "stdout",
     "output_type": "stream",
     "text": [
      "Train on 987 samples, validate on 110 samples\n",
      "Epoch 1/3\n",
      "987/987 [==============================] - 8s 8ms/step - loss: 0.4851 - acc: 0.8440 - val_loss: 0.4728 - val_acc: 0.9091\n",
      "Epoch 2/3\n",
      "987/987 [==============================] - 10s 11ms/step - loss: 0.4871 - acc: 0.8389 - val_loss: 0.3746 - val_acc: 0.9182\n",
      "Epoch 3/3\n",
      "987/987 [==============================] - 10s 10ms/step - loss: 0.4700 - acc: 0.8338 - val_loss: 0.3259 - val_acc: 0.9455\n"
     ]
    },
    {
     "data": {
      "text/plain": [
       "<keras.callbacks.History at 0x7f34ec14c470>"
      ]
     },
     "execution_count": 35,
     "metadata": {},
     "output_type": "execute_result"
    }
   ],
   "source": [
    "cnn.fit(X_train, \n",
    "        Y_train_one, \n",
    "        batch_size=128, \n",
    "        epochs=3,\n",
    "        validation_split=0.1)"
   ]
  },
  {
   "cell_type": "code",
   "execution_count": null,
   "metadata": {},
   "outputs": [],
   "source": []
  },
  {
   "cell_type": "code",
   "execution_count": 36,
   "metadata": {},
   "outputs": [],
   "source": [
    "cnn.save('model_conv_17epochs_valacc_94.h5')"
   ]
  },
  {
   "cell_type": "markdown",
   "metadata": {},
   "source": [
    "### Test with LSTm"
   ]
  },
  {
   "cell_type": "code",
   "execution_count": 83,
   "metadata": {},
   "outputs": [],
   "source": [
    "def rnn_model(input_shape):\n",
    "    X_input = Input(input_shape)\n",
    "    X = LSTM(32, return_sequences=True)(X_input)\n",
    "    X = LSTM(32, return_sequences=False)(X)\n",
    "    X = Dense(9,activation='softmax')(X)\n",
    "    return Model(X_input, X)"
   ]
  },
  {
   "cell_type": "code",
   "execution_count": 84,
   "metadata": {},
   "outputs": [],
   "source": [
    "rnn = rnn_model((40,128))"
   ]
  },
  {
   "cell_type": "code",
   "execution_count": 85,
   "metadata": {},
   "outputs": [
    {
     "name": "stdout",
     "output_type": "stream",
     "text": [
      "_________________________________________________________________\n",
      "Layer (type)                 Output Shape              Param #   \n",
      "=================================================================\n",
      "input_7 (InputLayer)         (None, 40, 128)           0         \n",
      "_________________________________________________________________\n",
      "lstm_9 (LSTM)                (None, 40, 32)            20608     \n",
      "_________________________________________________________________\n",
      "lstm_10 (LSTM)               (None, 32)                8320      \n",
      "_________________________________________________________________\n",
      "dense_7 (Dense)              (None, 9)                 297       \n",
      "=================================================================\n",
      "Total params: 29,225\n",
      "Trainable params: 29,225\n",
      "Non-trainable params: 0\n",
      "_________________________________________________________________\n"
     ]
    }
   ],
   "source": [
    "rnn.summary()"
   ]
  },
  {
   "cell_type": "code",
   "execution_count": 25,
   "metadata": {},
   "outputs": [],
   "source": [
    "def model_predict(model,images):\n",
    "    output = K.function([model.layers[0].input,K.learning_phase()],\n",
    "                        [model.layers[13].output])\n",
    "    return output([images,0])[0]"
   ]
  },
  {
   "cell_type": "code",
   "execution_count": 26,
   "metadata": {},
   "outputs": [],
   "source": [
    "def pad(X_cnn,max_len):\n",
    "    features_len = X_cnn.shape[1]\n",
    "    length = X_cnn.shape[0]\n",
    "    X_cnn = list(X_cnn)\n",
    "    pad_arr = [0 for i in range(features_len)]\n",
    "    for i in range(max_len-length):\n",
    "        X_cnn.append(pad_arr)\n",
    "    return np.array(X_cnn)    "
   ]
  },
  {
   "cell_type": "code",
   "execution_count": 51,
   "metadata": {},
   "outputs": [],
   "source": [
    "def build_dataset_for_lstm(image_size, pad_len = 150):\n",
    "    \n",
    "    model = load_model('model_conv_17epochs_valacc_94.h5')\n",
    "    \n",
    "    X_train_images = []\n",
    "    Y_train_images = []\n",
    "    \n",
    "    for i in range(len(classes)):\n",
    "        cls = classes[i]\n",
    "        for j in range(len(videos[i])):\n",
    "            vid = videos[i][j]\n",
    "            video_r = VIDEOS_DIR+cls+'/'+ vid +'/'\n",
    "            image_r = IMAGES_DIR+cls+'/'+ vid +'/'\n",
    "            filelist = sorted(list(os.listdir(image_r)))\n",
    "            X_train_images_class = []\n",
    "            for file in filelist:\n",
    "                if file.endswith(\".png\"):\n",
    "                    image = load_image(image_r+file,image_size)\n",
    "                    X_train_images_class.append(image)\n",
    "            \n",
    "            X_cnn = model_predict(model,np.array(X_train_images_class))\n",
    "            X_cnn = pad(X_cnn,pad_len) # Pad till 170 frames\n",
    "            X_train_images.append(X_cnn)\n",
    "            assert(X_train_images[0].shape == (150,128))\n",
    "            Y_train_images.append(i)    \n",
    "            \n",
    "            print(\"Processed\",videos[i][j],\"of\",\"class\",classes[i])\n",
    "    return X_train_images,Y_train_images       "
   ]
  },
  {
   "cell_type": "code",
   "execution_count": 22,
   "metadata": {},
   "outputs": [
    {
     "name": "stdout",
     "output_type": "stream",
     "text": [
      "0 38\n"
     ]
    }
   ],
   "source": [
    "for i in range(0,38,10):\n",
    "    lower = i\n",
    "    upper = min(38,i+40)\n",
    "    print(lower,upper)\n",
    "    if upper == 38:\n",
    "        break\n",
    "    "
   ]
  },
  {
   "cell_type": "code",
   "execution_count": 31,
   "metadata": {},
   "outputs": [],
   "source": [
    "def build_dataset_for_lstm_strided(image_size, stride = 10, max_len = 40):\n",
    "    \n",
    "    model = load_model('models/Conv/17epochs_valacc_94.h5')\n",
    "    \n",
    "    X_train_images = []\n",
    "    Y_train_images = []\n",
    "    \n",
    "    for i in range(len(classes)):\n",
    "        cls = classes[i]\n",
    "        for j in range(len(videos[i])):\n",
    "            vid = videos[i][j]\n",
    "            video_r = VIDEOS_DIR+cls+'/'+ vid +'/'\n",
    "            image_r = IMAGES_DIR+cls+'/'+ vid +'/'\n",
    "            \n",
    "            filelist = sorted(list(os.listdir(image_r)))\n",
    "            X_train_images_class = []\n",
    "            \n",
    "            for file in filelist:\n",
    "                if file.endswith(\".png\"):\n",
    "                    image = load_image(image_r+file,image_size)\n",
    "                    X_train_images_class.append(image)\n",
    "            X_cnn = model_predict(model,np.array(X_train_images_class))\n",
    "            print(X_cnn.shape)\n",
    "            \n",
    "            for k in range(0,X_cnn.shape[0],stride):\n",
    "                lower = k\n",
    "                upper = min(X_cnn.shape[0],k+max_len)\n",
    "                if upper == X_cnn.shape[0]:\n",
    "                    X_train_images.append(pad(X_cnn[lower:upper],max_len))\n",
    "                    Y_train_images.append(i)\n",
    "                    print(\"Padded frames\" , lower , \"to\" , upper)\n",
    "                    break\n",
    "                else:\n",
    "                    X_train_images.append(X_cnn[lower:upper])\n",
    "                    Y_train_images.append(i)\n",
    "                    print(\"Added frames\" , lower , \"to\" , upper)\n",
    "\n",
    "           \n",
    "            print(\"Processed\",videos[i][j],\"of\",\"class\",classes[i])\n",
    "    return X_train_images,Y_train_images"
   ]
  },
  {
   "cell_type": "code",
   "execution_count": 32,
   "metadata": {
    "scrolled": true
   },
   "outputs": [
    {
     "name": "stdout",
     "output_type": "stream",
     "text": [
      "(23, 128)\n",
      "Padded frames 0 to 23\n",
      "Processed 006 of class Kicking\n",
      "(23, 128)\n",
      "Padded frames 0 to 23\n",
      "Processed 017 of class Kicking\n",
      "(23, 128)\n",
      "Padded frames 0 to 23\n",
      "Processed 003 of class Kicking\n",
      "(23, 128)\n",
      "Padded frames 0 to 23\n",
      "Processed 016 of class Kicking\n",
      "(22, 128)\n",
      "Padded frames 0 to 22\n",
      "Processed 009 of class Kicking\n",
      "(23, 128)\n",
      "Padded frames 0 to 23\n",
      "Processed 013 of class Kicking\n",
      "(23, 128)\n",
      "Padded frames 0 to 23\n",
      "Processed 005 of class Kicking\n",
      "(23, 128)\n",
      "Padded frames 0 to 23\n",
      "Processed 012 of class Kicking\n",
      "(23, 128)\n",
      "Padded frames 0 to 23\n",
      "Processed 010 of class Kicking\n",
      "(23, 128)\n",
      "Padded frames 0 to 23\n",
      "Processed 015 of class Kicking\n",
      "(23, 128)\n",
      "Padded frames 0 to 23\n",
      "Processed 014 of class Kicking\n",
      "(23, 128)\n",
      "Padded frames 0 to 23\n",
      "Processed 007 of class Kicking\n",
      "(23, 128)\n",
      "Padded frames 0 to 23\n",
      "Processed 004 of class Kicking\n",
      "(23, 128)\n",
      "Padded frames 0 to 23\n",
      "Processed 011 of class Kicking\n",
      "(23, 128)\n",
      "Padded frames 0 to 23\n",
      "Processed 002 of class Kicking\n",
      "(23, 128)\n",
      "Padded frames 0 to 23\n",
      "Processed 001 of class Kicking\n",
      "(39, 128)\n",
      "Padded frames 0 to 39\n",
      "Processed 006 of class Riding-Horse\n",
      "(60, 128)\n",
      "Added frames 0 to 40\n",
      "Added frames 10 to 50\n",
      "Padded frames 20 to 60\n",
      "Processed 003 of class Riding-Horse\n",
      "(58, 128)\n",
      "Added frames 0 to 40\n",
      "Added frames 10 to 50\n",
      "Padded frames 20 to 58\n",
      "Processed 009 of class Riding-Horse\n",
      "(60, 128)\n",
      "Added frames 0 to 40\n",
      "Added frames 10 to 50\n",
      "Padded frames 20 to 60\n",
      "Processed 005 of class Riding-Horse\n",
      "(36, 128)\n",
      "Padded frames 0 to 36\n",
      "Processed 010 of class Riding-Horse\n",
      "(57, 128)\n",
      "Added frames 0 to 40\n",
      "Added frames 10 to 50\n",
      "Padded frames 20 to 57\n",
      "Processed 007 of class Riding-Horse\n",
      "(60, 128)\n",
      "Added frames 0 to 40\n",
      "Added frames 10 to 50\n",
      "Padded frames 20 to 60\n",
      "Processed 004 of class Riding-Horse\n",
      "(60, 128)\n",
      "Added frames 0 to 40\n",
      "Added frames 10 to 50\n",
      "Padded frames 20 to 60\n",
      "Processed 002 of class Riding-Horse\n",
      "(60, 128)\n",
      "Added frames 0 to 40\n",
      "Added frames 10 to 50\n",
      "Padded frames 20 to 60\n",
      "Processed 008 of class Riding-Horse\n",
      "(60, 128)\n",
      "Added frames 0 to 40\n",
      "Added frames 10 to 50\n",
      "Padded frames 20 to 60\n",
      "Processed 001 of class Riding-Horse\n",
      "(65, 128)\n",
      "Added frames 0 to 40\n",
      "Added frames 10 to 50\n",
      "Added frames 20 to 60\n",
      "Padded frames 30 to 65\n",
      "Processed 006 of class Running\n",
      "(65, 128)\n",
      "Added frames 0 to 40\n",
      "Added frames 10 to 50\n",
      "Added frames 20 to 60\n",
      "Padded frames 30 to 65\n",
      "Processed 009 of class Running\n",
      "(65, 128)\n",
      "Added frames 0 to 40\n",
      "Added frames 10 to 50\n",
      "Added frames 20 to 60\n",
      "Padded frames 30 to 65\n",
      "Processed 005 of class Running\n",
      "(65, 128)\n",
      "Added frames 0 to 40\n",
      "Added frames 10 to 50\n",
      "Added frames 20 to 60\n",
      "Padded frames 30 to 65\n",
      "Processed 010 of class Running\n",
      "(65, 128)\n",
      "Added frames 0 to 40\n",
      "Added frames 10 to 50\n",
      "Added frames 20 to 60\n",
      "Padded frames 30 to 65\n",
      "Processed 007 of class Running\n",
      "(65, 128)\n",
      "Added frames 0 to 40\n",
      "Added frames 10 to 50\n",
      "Added frames 20 to 60\n",
      "Padded frames 30 to 65\n",
      "Processed 004 of class Running\n",
      "(65, 128)\n",
      "Added frames 0 to 40\n",
      "Added frames 10 to 50\n",
      "Added frames 20 to 60\n",
      "Padded frames 30 to 65\n",
      "Processed 002 of class Running\n",
      "(65, 128)\n",
      "Added frames 0 to 40\n",
      "Added frames 10 to 50\n",
      "Added frames 20 to 60\n",
      "Padded frames 30 to 65\n",
      "Processed 008 of class Running\n",
      "(65, 128)\n",
      "Added frames 0 to 40\n",
      "Added frames 10 to 50\n",
      "Added frames 20 to 60\n",
      "Padded frames 30 to 65\n",
      "Processed 001 of class Running\n",
      "(70, 128)\n",
      "Added frames 0 to 40\n",
      "Added frames 10 to 50\n",
      "Added frames 20 to 60\n",
      "Padded frames 30 to 70\n",
      "Processed 006 of class SkateBoarding\n",
      "(70, 128)\n",
      "Added frames 0 to 40\n",
      "Added frames 10 to 50\n",
      "Added frames 20 to 60\n",
      "Padded frames 30 to 70\n",
      "Processed 003 of class SkateBoarding\n",
      "(70, 128)\n",
      "Added frames 0 to 40\n",
      "Added frames 10 to 50\n",
      "Added frames 20 to 60\n",
      "Padded frames 30 to 70\n",
      "Processed 009 of class SkateBoarding\n",
      "(70, 128)\n",
      "Added frames 0 to 40\n",
      "Added frames 10 to 50\n",
      "Added frames 20 to 60\n",
      "Padded frames 30 to 70\n",
      "Processed 005 of class SkateBoarding\n",
      "(70, 128)\n",
      "Added frames 0 to 40\n",
      "Added frames 10 to 50\n",
      "Added frames 20 to 60\n",
      "Padded frames 30 to 70\n",
      "Processed 010 of class SkateBoarding\n",
      "(70, 128)\n",
      "Added frames 0 to 40\n",
      "Added frames 10 to 50\n",
      "Added frames 20 to 60\n",
      "Padded frames 30 to 70\n",
      "Processed 007 of class SkateBoarding\n",
      "(70, 128)\n",
      "Added frames 0 to 40\n",
      "Added frames 10 to 50\n",
      "Added frames 20 to 60\n",
      "Padded frames 30 to 70\n",
      "Processed 004 of class SkateBoarding\n",
      "(70, 128)\n",
      "Added frames 0 to 40\n",
      "Added frames 10 to 50\n",
      "Added frames 20 to 60\n",
      "Padded frames 30 to 70\n",
      "Processed 002 of class SkateBoarding\n",
      "(70, 128)\n",
      "Added frames 0 to 40\n",
      "Added frames 10 to 50\n",
      "Added frames 20 to 60\n",
      "Padded frames 30 to 70\n",
      "Processed 008 of class SkateBoarding\n",
      "(70, 128)\n",
      "Added frames 0 to 40\n",
      "Added frames 10 to 50\n",
      "Added frames 20 to 60\n",
      "Padded frames 30 to 70\n",
      "Processed 001 of class SkateBoarding\n",
      "(50, 128)\n",
      "Added frames 0 to 40\n",
      "Padded frames 10 to 50\n",
      "Processed 006 of class Swing-Bench\n",
      "(50, 128)\n",
      "Added frames 0 to 40\n",
      "Padded frames 10 to 50\n",
      "Processed 017 of class Swing-Bench\n",
      "(50, 128)\n",
      "Added frames 0 to 40\n",
      "Padded frames 10 to 50\n",
      "Processed 003 of class Swing-Bench\n",
      "(50, 128)\n",
      "Added frames 0 to 40\n",
      "Padded frames 10 to 50\n",
      "Processed 016 of class Swing-Bench\n",
      "(50, 128)\n",
      "Added frames 0 to 40\n",
      "Padded frames 10 to 50\n",
      "Processed 009 of class Swing-Bench\n",
      "(50, 128)\n",
      "Added frames 0 to 40\n",
      "Padded frames 10 to 50\n",
      "Processed 013 of class Swing-Bench\n",
      "(50, 128)\n",
      "Added frames 0 to 40\n",
      "Padded frames 10 to 50\n",
      "Processed 005 of class Swing-Bench\n",
      "(50, 128)\n",
      "Added frames 0 to 40\n",
      "Padded frames 10 to 50\n",
      "Processed 012 of class Swing-Bench\n",
      "(50, 128)\n",
      "Added frames 0 to 40\n",
      "Padded frames 10 to 50\n",
      "Processed 010 of class Swing-Bench\n",
      "(50, 128)\n",
      "Added frames 0 to 40\n",
      "Padded frames 10 to 50\n",
      "Processed 015 of class Swing-Bench\n",
      "(50, 128)\n",
      "Added frames 0 to 40\n",
      "Padded frames 10 to 50\n",
      "Processed 014 of class Swing-Bench\n",
      "(50, 128)\n",
      "Added frames 0 to 40\n",
      "Padded frames 10 to 50\n",
      "Processed 007 of class Swing-Bench\n",
      "(50, 128)\n",
      "Added frames 0 to 40\n",
      "Padded frames 10 to 50\n",
      "Processed 004 of class Swing-Bench\n",
      "(50, 128)\n",
      "Added frames 0 to 40\n",
      "Padded frames 10 to 50\n",
      "Processed 011 of class Swing-Bench\n",
      "(50, 128)\n",
      "Added frames 0 to 40\n",
      "Padded frames 10 to 50\n",
      "Processed 002 of class Swing-Bench\n",
      "(50, 128)\n",
      "Added frames 0 to 40\n",
      "Padded frames 10 to 50\n",
      "Processed 008 of class Swing-Bench\n",
      "(50, 128)\n",
      "Added frames 0 to 40\n",
      "Padded frames 10 to 50\n",
      "Processed 001 of class Swing-Bench\n",
      "(123, 128)\n",
      "Added frames 0 to 40\n",
      "Added frames 10 to 50\n",
      "Added frames 20 to 60\n",
      "Added frames 30 to 70\n",
      "Added frames 40 to 80\n",
      "Added frames 50 to 90\n",
      "Added frames 60 to 100\n",
      "Added frames 70 to 110\n",
      "Added frames 80 to 120\n",
      "Padded frames 90 to 123\n",
      "Processed 003 of class Lifting\n",
      "(127, 128)\n",
      "Added frames 0 to 40\n",
      "Added frames 10 to 50\n",
      "Added frames 20 to 60\n",
      "Added frames 30 to 70\n",
      "Added frames 40 to 80\n",
      "Added frames 50 to 90\n",
      "Added frames 60 to 100\n",
      "Added frames 70 to 110\n",
      "Added frames 80 to 120\n",
      "Padded frames 90 to 127\n",
      "Processed 005 of class Lifting\n",
      "(122, 128)\n",
      "Added frames 0 to 40\n",
      "Added frames 10 to 50\n",
      "Added frames 20 to 60\n",
      "Added frames 30 to 70\n",
      "Added frames 40 to 80\n",
      "Added frames 50 to 90\n",
      "Added frames 60 to 100\n",
      "Added frames 70 to 110\n",
      "Added frames 80 to 120\n",
      "Padded frames 90 to 122\n",
      "Processed 004 of class Lifting\n",
      "(111, 128)\n",
      "Added frames 0 to 40\n",
      "Added frames 10 to 50\n",
      "Added frames 20 to 60\n",
      "Added frames 30 to 70\n",
      "Added frames 40 to 80\n",
      "Added frames 50 to 90\n",
      "Added frames 60 to 100\n",
      "Added frames 70 to 110\n",
      "Padded frames 80 to 111\n",
      "Processed 002 of class Lifting\n",
      "(113, 128)\n",
      "Added frames 0 to 40\n",
      "Added frames 10 to 50\n",
      "Added frames 20 to 60\n",
      "Added frames 30 to 70\n",
      "Added frames 40 to 80\n",
      "Added frames 50 to 90\n",
      "Added frames 60 to 100\n",
      "Added frames 70 to 110\n",
      "Padded frames 80 to 113\n",
      "Processed 001 of class Lifting\n",
      "(75, 128)\n",
      "Added frames 0 to 40\n",
      "Added frames 10 to 50\n",
      "Added frames 20 to 60\n",
      "Added frames 30 to 70\n",
      "Padded frames 40 to 75\n",
      "Processed 006 of class Swing-Side\n",
      "(3, 128)\n",
      "Padded frames 0 to 3\n",
      "Processed 003 of class Swing-Side\n",
      "(75, 128)\n",
      "Added frames 0 to 40\n",
      "Added frames 10 to 50\n",
      "Added frames 20 to 60\n",
      "Added frames 30 to 70\n",
      "Padded frames 40 to 75\n",
      "Processed 009 of class Swing-Side\n",
      "(4, 128)\n",
      "Padded frames 0 to 4\n",
      "Processed 005 of class Swing-Side\n",
      "(75, 128)\n",
      "Added frames 0 to 40\n",
      "Added frames 10 to 50\n",
      "Added frames 20 to 60\n",
      "Added frames 30 to 70\n",
      "Padded frames 40 to 75\n",
      "Processed 010 of class Swing-Side\n",
      "(75, 128)\n",
      "Added frames 0 to 40\n",
      "Added frames 10 to 50\n",
      "Added frames 20 to 60\n",
      "Added frames 30 to 70\n",
      "Padded frames 40 to 75\n",
      "Processed 007 of class Swing-Side\n",
      "(75, 128)\n",
      "Added frames 0 to 40\n",
      "Added frames 10 to 50\n",
      "Added frames 20 to 60\n",
      "Added frames 30 to 70\n",
      "Padded frames 40 to 75\n",
      "Processed 004 of class Swing-Side\n"
     ]
    },
    {
     "name": "stdout",
     "output_type": "stream",
     "text": [
      "(75, 128)\n",
      "Added frames 0 to 40\n",
      "Added frames 10 to 50\n",
      "Added frames 20 to 60\n",
      "Added frames 30 to 70\n",
      "Padded frames 40 to 75\n",
      "Processed 011 of class Swing-Side\n",
      "(75, 128)\n",
      "Added frames 0 to 40\n",
      "Added frames 10 to 50\n",
      "Added frames 20 to 60\n",
      "Added frames 30 to 70\n",
      "Padded frames 40 to 75\n",
      "Processed 002 of class Swing-Side\n",
      "(14, 128)\n",
      "Padded frames 0 to 14\n",
      "Processed 008 of class Swing-Side\n",
      "(35, 128)\n",
      "Padded frames 0 to 35\n",
      "Processed 001 of class Swing-Side\n",
      "(102, 128)\n",
      "Added frames 0 to 40\n",
      "Added frames 10 to 50\n",
      "Added frames 20 to 60\n",
      "Added frames 30 to 70\n",
      "Added frames 40 to 80\n",
      "Added frames 50 to 90\n",
      "Added frames 60 to 100\n",
      "Padded frames 70 to 102\n",
      "Processed 006 of class Walking\n",
      "(71, 128)\n",
      "Added frames 0 to 40\n",
      "Added frames 10 to 50\n",
      "Added frames 20 to 60\n",
      "Added frames 30 to 70\n",
      "Padded frames 40 to 71\n",
      "Processed 017 of class Walking\n",
      "(101, 128)\n",
      "Added frames 0 to 40\n",
      "Added frames 10 to 50\n",
      "Added frames 20 to 60\n",
      "Added frames 30 to 70\n",
      "Added frames 40 to 80\n",
      "Added frames 50 to 90\n",
      "Added frames 60 to 100\n",
      "Padded frames 70 to 101\n",
      "Processed 003 of class Walking\n",
      "(144, 128)\n",
      "Added frames 0 to 40\n",
      "Added frames 10 to 50\n",
      "Added frames 20 to 60\n",
      "Added frames 30 to 70\n",
      "Added frames 40 to 80\n",
      "Added frames 50 to 90\n",
      "Added frames 60 to 100\n",
      "Added frames 70 to 110\n",
      "Added frames 80 to 120\n",
      "Added frames 90 to 130\n",
      "Added frames 100 to 140\n",
      "Padded frames 110 to 144\n",
      "Processed 016 of class Walking\n",
      "(37, 128)\n",
      "Padded frames 0 to 37\n",
      "Processed 009 of class Walking\n",
      "(101, 128)\n",
      "Added frames 0 to 40\n",
      "Added frames 10 to 50\n",
      "Added frames 20 to 60\n",
      "Added frames 30 to 70\n",
      "Added frames 40 to 80\n",
      "Added frames 50 to 90\n",
      "Added frames 60 to 100\n",
      "Padded frames 70 to 101\n",
      "Processed 013 of class Walking\n",
      "(101, 128)\n",
      "Added frames 0 to 40\n",
      "Added frames 10 to 50\n",
      "Added frames 20 to 60\n",
      "Added frames 30 to 70\n",
      "Added frames 40 to 80\n",
      "Added frames 50 to 90\n",
      "Added frames 60 to 100\n",
      "Padded frames 70 to 101\n",
      "Processed 005 of class Walking\n",
      "(60, 128)\n",
      "Added frames 0 to 40\n",
      "Added frames 10 to 50\n",
      "Padded frames 20 to 60\n",
      "Processed 012 of class Walking\n",
      "(101, 128)\n",
      "Added frames 0 to 40\n",
      "Added frames 10 to 50\n",
      "Added frames 20 to 60\n",
      "Added frames 30 to 70\n",
      "Added frames 40 to 80\n",
      "Added frames 50 to 90\n",
      "Added frames 60 to 100\n",
      "Padded frames 70 to 101\n",
      "Processed 010 of class Walking\n",
      "(101, 128)\n",
      "Added frames 0 to 40\n",
      "Added frames 10 to 50\n",
      "Added frames 20 to 60\n",
      "Added frames 30 to 70\n",
      "Added frames 40 to 80\n",
      "Added frames 50 to 90\n",
      "Added frames 60 to 100\n",
      "Padded frames 70 to 101\n",
      "Processed 015 of class Walking\n",
      "(101, 128)\n",
      "Added frames 0 to 40\n",
      "Added frames 10 to 50\n",
      "Added frames 20 to 60\n",
      "Added frames 30 to 70\n",
      "Added frames 40 to 80\n",
      "Added frames 50 to 90\n",
      "Added frames 60 to 100\n",
      "Padded frames 70 to 101\n",
      "Processed 014 of class Walking\n",
      "(103, 128)\n",
      "Added frames 0 to 40\n",
      "Added frames 10 to 50\n",
      "Added frames 20 to 60\n",
      "Added frames 30 to 70\n",
      "Added frames 40 to 80\n",
      "Added frames 50 to 90\n",
      "Added frames 60 to 100\n",
      "Padded frames 70 to 103\n",
      "Processed 007 of class Walking\n",
      "(101, 128)\n",
      "Added frames 0 to 40\n",
      "Added frames 10 to 50\n",
      "Added frames 20 to 60\n",
      "Added frames 30 to 70\n",
      "Added frames 40 to 80\n",
      "Added frames 50 to 90\n",
      "Added frames 60 to 100\n",
      "Padded frames 70 to 101\n",
      "Processed 019 of class Walking\n",
      "(101, 128)\n",
      "Added frames 0 to 40\n",
      "Added frames 10 to 50\n",
      "Added frames 20 to 60\n",
      "Added frames 30 to 70\n",
      "Added frames 40 to 80\n",
      "Added frames 50 to 90\n",
      "Added frames 60 to 100\n",
      "Padded frames 70 to 101\n",
      "Processed 004 of class Walking\n",
      "(101, 128)\n",
      "Added frames 0 to 40\n",
      "Added frames 10 to 50\n",
      "Added frames 20 to 60\n",
      "Added frames 30 to 70\n",
      "Added frames 40 to 80\n",
      "Added frames 50 to 90\n",
      "Added frames 60 to 100\n",
      "Padded frames 70 to 101\n",
      "Processed 011 of class Walking\n",
      "(109, 128)\n",
      "Added frames 0 to 40\n",
      "Added frames 10 to 50\n",
      "Added frames 20 to 60\n",
      "Added frames 30 to 70\n",
      "Added frames 40 to 80\n",
      "Added frames 50 to 90\n",
      "Added frames 60 to 100\n",
      "Padded frames 70 to 109\n",
      "Processed 018 of class Walking\n",
      "(101, 128)\n",
      "Added frames 0 to 40\n",
      "Added frames 10 to 50\n",
      "Added frames 20 to 60\n",
      "Added frames 30 to 70\n",
      "Added frames 40 to 80\n",
      "Added frames 50 to 90\n",
      "Added frames 60 to 100\n",
      "Padded frames 70 to 101\n",
      "Processed 002 of class Walking\n",
      "(95, 128)\n",
      "Added frames 0 to 40\n",
      "Added frames 10 to 50\n",
      "Added frames 20 to 60\n",
      "Added frames 30 to 70\n",
      "Added frames 40 to 80\n",
      "Added frames 50 to 90\n",
      "Padded frames 60 to 95\n",
      "Processed 008 of class Walking\n",
      "(101, 128)\n",
      "Added frames 0 to 40\n",
      "Added frames 10 to 50\n",
      "Added frames 20 to 60\n",
      "Added frames 30 to 70\n",
      "Added frames 40 to 80\n",
      "Added frames 50 to 90\n",
      "Added frames 60 to 100\n",
      "Padded frames 70 to 101\n",
      "Processed 001 of class Walking\n",
      "(60, 128)\n",
      "Added frames 0 to 40\n",
      "Added frames 10 to 50\n",
      "Padded frames 20 to 60\n",
      "Processed 006 of class Golf-Swing\n",
      "(60, 128)\n",
      "Added frames 0 to 40\n",
      "Added frames 10 to 50\n",
      "Padded frames 20 to 60\n",
      "Processed 003 of class Golf-Swing\n",
      "(60, 128)\n",
      "Added frames 0 to 40\n",
      "Added frames 10 to 50\n",
      "Padded frames 20 to 60\n",
      "Processed 009 of class Golf-Swing\n",
      "(17, 128)\n",
      "Padded frames 0 to 17\n",
      "Processed 013 of class Golf-Swing\n",
      "(60, 128)\n",
      "Added frames 0 to 40\n",
      "Added frames 10 to 50\n",
      "Padded frames 20 to 60\n",
      "Processed 005 of class Golf-Swing\n",
      "(60, 128)\n",
      "Added frames 0 to 40\n",
      "Added frames 10 to 50\n",
      "Padded frames 20 to 60\n",
      "Processed 012 of class Golf-Swing\n",
      "(60, 128)\n",
      "Added frames 0 to 40\n",
      "Added frames 10 to 50\n",
      "Padded frames 20 to 60\n",
      "Processed 010 of class Golf-Swing\n",
      "(60, 128)\n",
      "Added frames 0 to 40\n",
      "Added frames 10 to 50\n",
      "Padded frames 20 to 60\n",
      "Processed 014 of class Golf-Swing\n",
      "(60, 128)\n",
      "Added frames 0 to 40\n",
      "Added frames 10 to 50\n",
      "Padded frames 20 to 60\n",
      "Processed 007 of class Golf-Swing\n",
      "(60, 128)\n",
      "Added frames 0 to 40\n",
      "Added frames 10 to 50\n",
      "Padded frames 20 to 60\n",
      "Processed 004 of class Golf-Swing\n",
      "(60, 128)\n",
      "Added frames 0 to 40\n",
      "Added frames 10 to 50\n",
      "Padded frames 20 to 60\n",
      "Processed 011 of class Golf-Swing\n",
      "(60, 128)\n",
      "Added frames 0 to 40\n",
      "Added frames 10 to 50\n",
      "Padded frames 20 to 60\n",
      "Processed 002 of class Golf-Swing\n",
      "(60, 128)\n",
      "Added frames 0 to 40\n",
      "Added frames 10 to 50\n",
      "Padded frames 20 to 60\n",
      "Processed 008 of class Golf-Swing\n",
      "(60, 128)\n",
      "Added frames 0 to 40\n",
      "Added frames 10 to 50\n",
      "Padded frames 20 to 60\n",
      "Processed 001 of class Golf-Swing\n"
     ]
    }
   ],
   "source": [
    "X,Y = build_dataset_for_lstm_strided((172,172))"
   ]
  },
  {
   "cell_type": "code",
   "execution_count": 33,
   "metadata": {},
   "outputs": [
    {
     "name": "stdout",
     "output_type": "stream",
     "text": [
      "Shape X (419, 40, 128)\n",
      "Shape Y (419, 9)\n"
     ]
    }
   ],
   "source": [
    "X = np.array(X)\n",
    "Y = convert_to_one_hot(np.array(Y),9)\n",
    "print(\"Shape X\",X.shape)\n",
    "print(\"Shape Y\",Y.shape)"
   ]
  },
  {
   "cell_type": "code",
   "execution_count": 34,
   "metadata": {},
   "outputs": [],
   "source": [
    "np.save('Numpy/LSTM_Strided/train_X', X)\n",
    "np.save('Numpy/LSTM_Strided/train_Y', Y)"
   ]
  },
  {
   "cell_type": "code",
   "execution_count": 35,
   "metadata": {},
   "outputs": [
    {
     "data": {
      "text/plain": [
       "(40, 128)"
      ]
     },
     "execution_count": 35,
     "metadata": {},
     "output_type": "execute_result"
    }
   ],
   "source": [
    "X[2].shape"
   ]
  },
  {
   "cell_type": "code",
   "execution_count": 93,
   "metadata": {},
   "outputs": [
    {
     "name": "stdout",
     "output_type": "stream",
     "text": [
      "Processed 006 of class Kicking\n",
      "Processed 017 of class Kicking\n",
      "Processed 003 of class Kicking\n",
      "Processed 016 of class Kicking\n",
      "Processed 009 of class Kicking\n",
      "Processed 013 of class Kicking\n",
      "Processed 005 of class Kicking\n",
      "Processed 012 of class Kicking\n",
      "Processed 010 of class Kicking\n",
      "Processed 015 of class Kicking\n",
      "Processed 014 of class Kicking\n",
      "Processed 007 of class Kicking\n",
      "Processed 004 of class Kicking\n",
      "Processed 011 of class Kicking\n",
      "Processed 002 of class Kicking\n",
      "Processed 001 of class Kicking\n",
      "Processed 006 of class Riding-Horse\n",
      "Processed 003 of class Riding-Horse\n",
      "Processed 009 of class Riding-Horse\n",
      "Processed 005 of class Riding-Horse\n",
      "Processed 010 of class Riding-Horse\n",
      "Processed 007 of class Riding-Horse\n",
      "Processed 004 of class Riding-Horse\n",
      "Processed 002 of class Riding-Horse\n",
      "Processed 008 of class Riding-Horse\n",
      "Processed 001 of class Riding-Horse\n",
      "Processed 006 of class Running\n",
      "Processed 009 of class Running\n",
      "Processed 005 of class Running\n",
      "Processed 010 of class Running\n",
      "Processed 007 of class Running\n",
      "Processed 004 of class Running\n",
      "Processed 002 of class Running\n",
      "Processed 008 of class Running\n",
      "Processed 001 of class Running\n",
      "Processed 006 of class SkateBoarding\n",
      "Processed 003 of class SkateBoarding\n",
      "Processed 009 of class SkateBoarding\n",
      "Processed 005 of class SkateBoarding\n",
      "Processed 010 of class SkateBoarding\n",
      "Processed 007 of class SkateBoarding\n",
      "Processed 004 of class SkateBoarding\n",
      "Processed 002 of class SkateBoarding\n",
      "Processed 008 of class SkateBoarding\n",
      "Processed 001 of class SkateBoarding\n",
      "Processed 006 of class Swing-Bench\n",
      "Processed 017 of class Swing-Bench\n",
      "Processed 003 of class Swing-Bench\n",
      "Processed 016 of class Swing-Bench\n",
      "Processed 009 of class Swing-Bench\n",
      "Processed 013 of class Swing-Bench\n",
      "Processed 005 of class Swing-Bench\n",
      "Processed 012 of class Swing-Bench\n",
      "Processed 010 of class Swing-Bench\n",
      "Processed 015 of class Swing-Bench\n",
      "Processed 014 of class Swing-Bench\n",
      "Processed 007 of class Swing-Bench\n",
      "Processed 004 of class Swing-Bench\n",
      "Processed 011 of class Swing-Bench\n",
      "Processed 002 of class Swing-Bench\n",
      "Processed 008 of class Swing-Bench\n",
      "Processed 001 of class Swing-Bench\n",
      "Processed 003 of class Lifting\n",
      "Processed 005 of class Lifting\n",
      "Processed 004 of class Lifting\n",
      "Processed 002 of class Lifting\n",
      "Processed 001 of class Lifting\n",
      "Processed 006 of class Swing-Side\n",
      "Processed 003 of class Swing-Side\n",
      "Processed 009 of class Swing-Side\n",
      "Processed 005 of class Swing-Side\n",
      "Processed 010 of class Swing-Side\n",
      "Processed 007 of class Swing-Side\n",
      "Processed 004 of class Swing-Side\n",
      "Processed 011 of class Swing-Side\n",
      "Processed 002 of class Swing-Side\n",
      "Processed 008 of class Swing-Side\n",
      "Processed 001 of class Swing-Side\n",
      "Processed 006 of class Walking\n",
      "Processed 017 of class Walking\n",
      "Processed 003 of class Walking\n",
      "Processed 016 of class Walking\n",
      "Processed 009 of class Walking\n",
      "Processed 013 of class Walking\n",
      "Processed 005 of class Walking\n",
      "Processed 012 of class Walking\n",
      "Processed 010 of class Walking\n",
      "Processed 015 of class Walking\n",
      "Processed 014 of class Walking\n",
      "Processed 007 of class Walking\n",
      "Processed 019 of class Walking\n",
      "Processed 004 of class Walking\n",
      "Processed 011 of class Walking\n",
      "Processed 018 of class Walking\n",
      "Processed 002 of class Walking\n",
      "Processed 008 of class Walking\n",
      "Processed 001 of class Walking\n",
      "Processed 006 of class Golf-Swing\n",
      "Processed 003 of class Golf-Swing\n",
      "Processed 009 of class Golf-Swing\n",
      "Processed 013 of class Golf-Swing\n",
      "Processed 005 of class Golf-Swing\n",
      "Processed 012 of class Golf-Swing\n",
      "Processed 010 of class Golf-Swing\n",
      "Processed 014 of class Golf-Swing\n",
      "Processed 007 of class Golf-Swing\n",
      "Processed 004 of class Golf-Swing\n",
      "Processed 011 of class Golf-Swing\n",
      "Processed 002 of class Golf-Swing\n",
      "Processed 008 of class Golf-Swing\n",
      "Processed 001 of class Golf-Swing\n"
     ]
    }
   ],
   "source": [
    "#X,Y = build_dataset_for_lstm((172,172))"
   ]
  },
  {
   "cell_type": "markdown",
   "metadata": {},
   "source": [
    "## RNN Model Start"
   ]
  },
  {
   "cell_type": "code",
   "execution_count": 79,
   "metadata": {},
   "outputs": [],
   "source": [
    "rnn.compile(loss='categorical_crossentropy', \n",
    "            metrics=['accuracy'], \n",
    "            optimizer='adam')"
   ]
  },
  {
   "cell_type": "code",
   "execution_count": 80,
   "metadata": {},
   "outputs": [],
   "source": [
    "X = np.load('Numpy/LSTM_Strided/train_X.npy')\n",
    "Y = np.load('Numpy/LSTM_Strided/train_Y.npy')\n",
    "X_train_rnn,Y_train_rnn = permute(X,Y)\n",
    "#X_train_rnn,X_test_rnn,Y_train_rnn,Y_test_rnn = test_train_split(X,Y)"
   ]
  },
  {
   "cell_type": "code",
   "execution_count": 82,
   "metadata": {},
   "outputs": [
    {
     "name": "stdout",
     "output_type": "stream",
     "text": [
      "Train on 335 samples, validate on 84 samples\n",
      "Epoch 1/500\n",
      "335/335 [==============================] - 0s 360us/step - loss: 0.0065 - acc: 1.0000 - val_loss: 0.2264 - val_acc: 0.9167\n",
      "Epoch 2/500\n",
      "335/335 [==============================] - 0s 347us/step - loss: 0.0065 - acc: 1.0000 - val_loss: 0.2265 - val_acc: 0.9167\n",
      "Epoch 3/500\n",
      "335/335 [==============================] - 0s 319us/step - loss: 0.0065 - acc: 1.0000 - val_loss: 0.2267 - val_acc: 0.9167\n",
      "Epoch 4/500\n",
      "335/335 [==============================] - 0s 307us/step - loss: 0.0065 - acc: 1.0000 - val_loss: 0.2268 - val_acc: 0.9167\n",
      "Epoch 5/500\n",
      "335/335 [==============================] - 0s 347us/step - loss: 0.0065 - acc: 1.0000 - val_loss: 0.2267 - val_acc: 0.9167\n",
      "Epoch 6/500\n",
      "335/335 [==============================] - 0s 329us/step - loss: 0.0064 - acc: 1.0000 - val_loss: 0.2266 - val_acc: 0.9167\n",
      "Epoch 7/500\n",
      "335/335 [==============================] - 0s 331us/step - loss: 0.0064 - acc: 1.0000 - val_loss: 0.2266 - val_acc: 0.9167\n",
      "Epoch 8/500\n",
      "335/335 [==============================] - 0s 320us/step - loss: 0.0064 - acc: 1.0000 - val_loss: 0.2270 - val_acc: 0.9167\n",
      "Epoch 9/500\n",
      "335/335 [==============================] - 0s 355us/step - loss: 0.0064 - acc: 1.0000 - val_loss: 0.2274 - val_acc: 0.9167\n",
      "Epoch 10/500\n",
      "335/335 [==============================] - 0s 344us/step - loss: 0.0064 - acc: 1.0000 - val_loss: 0.2277 - val_acc: 0.9167\n",
      "Epoch 11/500\n",
      "335/335 [==============================] - 0s 338us/step - loss: 0.0063 - acc: 1.0000 - val_loss: 0.2279 - val_acc: 0.9167\n",
      "Epoch 12/500\n",
      "335/335 [==============================] - 0s 315us/step - loss: 0.0063 - acc: 1.0000 - val_loss: 0.2280 - val_acc: 0.9167\n",
      "Epoch 13/500\n",
      "335/335 [==============================] - 0s 371us/step - loss: 0.0063 - acc: 1.0000 - val_loss: 0.2285 - val_acc: 0.9167\n",
      "Epoch 14/500\n",
      "335/335 [==============================] - 0s 367us/step - loss: 0.0063 - acc: 1.0000 - val_loss: 0.2294 - val_acc: 0.9167\n",
      "Epoch 15/500\n",
      "335/335 [==============================] - 0s 372us/step - loss: 0.0062 - acc: 1.0000 - val_loss: 0.2300 - val_acc: 0.9167\n",
      "Epoch 16/500\n",
      "335/335 [==============================] - 0s 321us/step - loss: 0.0062 - acc: 1.0000 - val_loss: 0.2305 - val_acc: 0.9167\n",
      "Epoch 17/500\n",
      "335/335 [==============================] - 0s 301us/step - loss: 0.0062 - acc: 1.0000 - val_loss: 0.2308 - val_acc: 0.9167\n",
      "Epoch 18/500\n",
      "335/335 [==============================] - 0s 212us/step - loss: 0.0062 - acc: 1.0000 - val_loss: 0.2309 - val_acc: 0.9167\n",
      "Epoch 19/500\n",
      "335/335 [==============================] - 0s 237us/step - loss: 0.0062 - acc: 1.0000 - val_loss: 0.2311 - val_acc: 0.9167\n",
      "Epoch 20/500\n",
      "335/335 [==============================] - 0s 237us/step - loss: 0.0061 - acc: 1.0000 - val_loss: 0.2314 - val_acc: 0.9167\n",
      "Epoch 21/500\n",
      "335/335 [==============================] - 0s 230us/step - loss: 0.0061 - acc: 1.0000 - val_loss: 0.2317 - val_acc: 0.9167\n",
      "Epoch 22/500\n",
      "335/335 [==============================] - 0s 236us/step - loss: 0.0061 - acc: 1.0000 - val_loss: 0.2319 - val_acc: 0.9167\n",
      "Epoch 23/500\n",
      "335/335 [==============================] - 0s 239us/step - loss: 0.0061 - acc: 1.0000 - val_loss: 0.2320 - val_acc: 0.9167\n",
      "Epoch 24/500\n",
      "335/335 [==============================] - 0s 246us/step - loss: 0.0061 - acc: 1.0000 - val_loss: 0.2321 - val_acc: 0.9167\n",
      "Epoch 25/500\n",
      "335/335 [==============================] - 0s 272us/step - loss: 0.0060 - acc: 1.0000 - val_loss: 0.2323 - val_acc: 0.9167\n",
      "Epoch 26/500\n",
      "335/335 [==============================] - 0s 276us/step - loss: 0.0060 - acc: 1.0000 - val_loss: 0.2324 - val_acc: 0.9167\n",
      "Epoch 27/500\n",
      "335/335 [==============================] - 0s 261us/step - loss: 0.0060 - acc: 1.0000 - val_loss: 0.2325 - val_acc: 0.9167\n",
      "Epoch 28/500\n",
      "335/335 [==============================] - 0s 230us/step - loss: 0.0060 - acc: 1.0000 - val_loss: 0.2325 - val_acc: 0.9167\n",
      "Epoch 29/500\n",
      "335/335 [==============================] - 0s 248us/step - loss: 0.0060 - acc: 1.0000 - val_loss: 0.2325 - val_acc: 0.9167\n",
      "Epoch 30/500\n",
      "335/335 [==============================] - 0s 233us/step - loss: 0.0060 - acc: 1.0000 - val_loss: 0.2325 - val_acc: 0.9167\n",
      "Epoch 31/500\n",
      "335/335 [==============================] - 0s 237us/step - loss: 0.0059 - acc: 1.0000 - val_loss: 0.2324 - val_acc: 0.9167\n",
      "Epoch 32/500\n",
      "335/335 [==============================] - 0s 223us/step - loss: 0.0059 - acc: 1.0000 - val_loss: 0.2325 - val_acc: 0.9167\n",
      "Epoch 33/500\n",
      "335/335 [==============================] - 0s 226us/step - loss: 0.0059 - acc: 1.0000 - val_loss: 0.2327 - val_acc: 0.9167\n",
      "Epoch 34/500\n",
      "335/335 [==============================] - 0s 239us/step - loss: 0.0059 - acc: 1.0000 - val_loss: 0.2328 - val_acc: 0.9167\n",
      "Epoch 35/500\n",
      "335/335 [==============================] - 0s 267us/step - loss: 0.0059 - acc: 1.0000 - val_loss: 0.2328 - val_acc: 0.9167\n",
      "Epoch 36/500\n",
      "335/335 [==============================] - 0s 260us/step - loss: 0.0058 - acc: 1.0000 - val_loss: 0.2329 - val_acc: 0.9167\n",
      "Epoch 37/500\n",
      "335/335 [==============================] - 0s 252us/step - loss: 0.0058 - acc: 1.0000 - val_loss: 0.2331 - val_acc: 0.9167\n",
      "Epoch 38/500\n",
      "335/335 [==============================] - 0s 190us/step - loss: 0.0058 - acc: 1.0000 - val_loss: 0.2332 - val_acc: 0.9167\n",
      "Epoch 39/500\n",
      "335/335 [==============================] - 0s 213us/step - loss: 0.0058 - acc: 1.0000 - val_loss: 0.2333 - val_acc: 0.9167\n",
      "Epoch 40/500\n",
      "335/335 [==============================] - 0s 185us/step - loss: 0.0058 - acc: 1.0000 - val_loss: 0.2335 - val_acc: 0.9167\n",
      "Epoch 41/500\n",
      "335/335 [==============================] - 0s 189us/step - loss: 0.0057 - acc: 1.0000 - val_loss: 0.2337 - val_acc: 0.9167\n",
      "Epoch 42/500\n",
      "335/335 [==============================] - 0s 188us/step - loss: 0.0057 - acc: 1.0000 - val_loss: 0.2338 - val_acc: 0.9167\n",
      "Epoch 43/500\n",
      "335/335 [==============================] - 0s 191us/step - loss: 0.0057 - acc: 1.0000 - val_loss: 0.2339 - val_acc: 0.9167\n",
      "Epoch 44/500\n",
      "335/335 [==============================] - 0s 189us/step - loss: 0.0057 - acc: 1.0000 - val_loss: 0.2341 - val_acc: 0.9167\n",
      "Epoch 45/500\n",
      "335/335 [==============================] - 0s 196us/step - loss: 0.0057 - acc: 1.0000 - val_loss: 0.2343 - val_acc: 0.9167\n",
      "Epoch 46/500\n",
      "335/335 [==============================] - 0s 195us/step - loss: 0.0057 - acc: 1.0000 - val_loss: 0.2344 - val_acc: 0.9167\n",
      "Epoch 47/500\n",
      "335/335 [==============================] - 0s 205us/step - loss: 0.0056 - acc: 1.0000 - val_loss: 0.2345 - val_acc: 0.9167\n",
      "Epoch 48/500\n",
      "335/335 [==============================] - 0s 225us/step - loss: 0.0056 - acc: 1.0000 - val_loss: 0.2346 - val_acc: 0.9167\n",
      "Epoch 49/500\n",
      "335/335 [==============================] - 0s 248us/step - loss: 0.0056 - acc: 1.0000 - val_loss: 0.2347 - val_acc: 0.9167\n",
      "Epoch 50/500\n",
      "335/335 [==============================] - 0s 237us/step - loss: 0.0056 - acc: 1.0000 - val_loss: 0.2348 - val_acc: 0.9167\n",
      "Epoch 51/500\n",
      "335/335 [==============================] - 0s 228us/step - loss: 0.0056 - acc: 1.0000 - val_loss: 0.2349 - val_acc: 0.9167\n",
      "Epoch 52/500\n",
      "335/335 [==============================] - 0s 201us/step - loss: 0.0055 - acc: 1.0000 - val_loss: 0.2351 - val_acc: 0.9167\n",
      "Epoch 53/500\n",
      "335/335 [==============================] - 0s 201us/step - loss: 0.0055 - acc: 1.0000 - val_loss: 0.2352 - val_acc: 0.9167\n",
      "Epoch 54/500\n",
      "335/335 [==============================] - 0s 194us/step - loss: 0.0055 - acc: 1.0000 - val_loss: 0.2353 - val_acc: 0.9167\n",
      "Epoch 55/500\n",
      "335/335 [==============================] - 0s 205us/step - loss: 0.0055 - acc: 1.0000 - val_loss: 0.2354 - val_acc: 0.9167\n",
      "Epoch 56/500\n",
      "335/335 [==============================] - 0s 210us/step - loss: 0.0055 - acc: 1.0000 - val_loss: 0.2355 - val_acc: 0.9167\n",
      "Epoch 57/500\n",
      "335/335 [==============================] - 0s 251us/step - loss: 0.0054 - acc: 1.0000 - val_loss: 0.2356 - val_acc: 0.9167\n",
      "Epoch 58/500\n",
      "335/335 [==============================] - 0s 221us/step - loss: 0.0054 - acc: 1.0000 - val_loss: 0.2357 - val_acc: 0.9167\n",
      "Epoch 59/500\n",
      "335/335 [==============================] - 0s 254us/step - loss: 0.0054 - acc: 1.0000 - val_loss: 0.2358 - val_acc: 0.9167\n",
      "Epoch 60/500\n",
      "335/335 [==============================] - 0s 210us/step - loss: 0.0054 - acc: 1.0000 - val_loss: 0.2359 - val_acc: 0.9167\n"
     ]
    },
    {
     "name": "stdout",
     "output_type": "stream",
     "text": [
      "Epoch 61/500\n",
      "335/335 [==============================] - 0s 221us/step - loss: 0.0054 - acc: 1.0000 - val_loss: 0.2359 - val_acc: 0.9167\n",
      "Epoch 62/500\n",
      "335/335 [==============================] - 0s 177us/step - loss: 0.0054 - acc: 1.0000 - val_loss: 0.2359 - val_acc: 0.9167\n",
      "Epoch 63/500\n",
      "335/335 [==============================] - 0s 194us/step - loss: 0.0053 - acc: 1.0000 - val_loss: 0.2359 - val_acc: 0.9167\n",
      "Epoch 64/500\n",
      "335/335 [==============================] - 0s 183us/step - loss: 0.0053 - acc: 1.0000 - val_loss: 0.2359 - val_acc: 0.9167\n",
      "Epoch 65/500\n",
      "335/335 [==============================] - 0s 197us/step - loss: 0.0053 - acc: 1.0000 - val_loss: 0.2359 - val_acc: 0.9167\n",
      "Epoch 66/500\n",
      "335/335 [==============================] - 0s 190us/step - loss: 0.0053 - acc: 1.0000 - val_loss: 0.2358 - val_acc: 0.9167\n",
      "Epoch 67/500\n",
      "335/335 [==============================] - 0s 200us/step - loss: 0.0053 - acc: 1.0000 - val_loss: 0.2358 - val_acc: 0.9167\n",
      "Epoch 68/500\n",
      "335/335 [==============================] - 0s 206us/step - loss: 0.0053 - acc: 1.0000 - val_loss: 0.2357 - val_acc: 0.9167\n",
      "Epoch 69/500\n",
      "335/335 [==============================] - 0s 223us/step - loss: 0.0052 - acc: 1.0000 - val_loss: 0.2356 - val_acc: 0.9167\n",
      "Epoch 70/500\n",
      "335/335 [==============================] - 0s 245us/step - loss: 0.0052 - acc: 1.0000 - val_loss: 0.2355 - val_acc: 0.9167\n",
      "Epoch 71/500\n",
      "335/335 [==============================] - 0s 356us/step - loss: 0.0052 - acc: 1.0000 - val_loss: 0.2353 - val_acc: 0.9167\n",
      "Epoch 72/500\n",
      "335/335 [==============================] - 0s 302us/step - loss: 0.0052 - acc: 1.0000 - val_loss: 0.2352 - val_acc: 0.9167\n",
      "Epoch 73/500\n",
      "335/335 [==============================] - 0s 348us/step - loss: 0.0052 - acc: 1.0000 - val_loss: 0.2349 - val_acc: 0.9167\n",
      "Epoch 74/500\n",
      "335/335 [==============================] - 0s 341us/step - loss: 0.0052 - acc: 1.0000 - val_loss: 0.2347 - val_acc: 0.9167\n",
      "Epoch 75/500\n",
      "335/335 [==============================] - 0s 361us/step - loss: 0.0051 - acc: 1.0000 - val_loss: 0.2343 - val_acc: 0.9167\n",
      "Epoch 76/500\n",
      "335/335 [==============================] - 0s 325us/step - loss: 0.0051 - acc: 1.0000 - val_loss: 0.2338 - val_acc: 0.9167\n",
      "Epoch 77/500\n",
      "335/335 [==============================] - 0s 341us/step - loss: 0.0051 - acc: 1.0000 - val_loss: 0.2331 - val_acc: 0.9167\n",
      "Epoch 78/500\n",
      "335/335 [==============================] - 0s 329us/step - loss: 0.0051 - acc: 1.0000 - val_loss: 0.2321 - val_acc: 0.9167\n",
      "Epoch 79/500\n",
      "335/335 [==============================] - 0s 319us/step - loss: 0.0051 - acc: 1.0000 - val_loss: 0.2308 - val_acc: 0.9167\n",
      "Epoch 80/500\n",
      "335/335 [==============================] - 0s 279us/step - loss: 0.0051 - acc: 1.0000 - val_loss: 0.2294 - val_acc: 0.9167\n",
      "Epoch 81/500\n",
      "335/335 [==============================] - 0s 301us/step - loss: 0.0051 - acc: 1.0000 - val_loss: 0.2280 - val_acc: 0.9167\n",
      "Epoch 82/500\n",
      "335/335 [==============================] - 0s 281us/step - loss: 0.0050 - acc: 1.0000 - val_loss: 0.2268 - val_acc: 0.9167\n",
      "Epoch 83/500\n",
      "335/335 [==============================] - 0s 285us/step - loss: 0.0050 - acc: 1.0000 - val_loss: 0.2256 - val_acc: 0.9167\n",
      "Epoch 84/500\n",
      "335/335 [==============================] - 0s 275us/step - loss: 0.0050 - acc: 1.0000 - val_loss: 0.2247 - val_acc: 0.9167\n",
      "Epoch 85/500\n"
     ]
    },
    {
     "ename": "KeyboardInterrupt",
     "evalue": "",
     "output_type": "error",
     "traceback": [
      "\u001b[0;31m---------------------------------------------------------------------------\u001b[0m",
      "\u001b[0;31mKeyboardInterrupt\u001b[0m                         Traceback (most recent call last)",
      "\u001b[0;32m<ipython-input-82-ef86b3c69c4c>\u001b[0m in \u001b[0;36m<module>\u001b[0;34m()\u001b[0m\n\u001b[0;32m----> 1\u001b[0;31m \u001b[0mrnn\u001b[0m\u001b[0;34m.\u001b[0m\u001b[0mfit\u001b[0m\u001b[0;34m(\u001b[0m\u001b[0mX_train_rnn\u001b[0m\u001b[0;34m,\u001b[0m \u001b[0mY_train_rnn\u001b[0m\u001b[0;34m,\u001b[0m \u001b[0mepochs\u001b[0m\u001b[0;34m=\u001b[0m\u001b[0;36m500\u001b[0m\u001b[0;34m,\u001b[0m \u001b[0mbatch_size\u001b[0m \u001b[0;34m=\u001b[0m \u001b[0mX_train_rnn\u001b[0m\u001b[0;34m.\u001b[0m\u001b[0mshape\u001b[0m\u001b[0;34m[\u001b[0m\u001b[0;36m0\u001b[0m\u001b[0;34m]\u001b[0m\u001b[0;34m,\u001b[0m \u001b[0mvalidation_split\u001b[0m\u001b[0;34m=\u001b[0m\u001b[0;36m0.2\u001b[0m\u001b[0;34m)\u001b[0m\u001b[0;34m\u001b[0m\u001b[0m\n\u001b[0m",
      "\u001b[0;32m/usr/local/lib/python3.5/dist-packages/keras/engine/training.py\u001b[0m in \u001b[0;36mfit\u001b[0;34m(self, x, y, batch_size, epochs, verbose, callbacks, validation_split, validation_data, shuffle, class_weight, sample_weight, initial_epoch, steps_per_epoch, validation_steps, **kwargs)\u001b[0m\n\u001b[1;32m   1703\u001b[0m                               \u001b[0minitial_epoch\u001b[0m\u001b[0;34m=\u001b[0m\u001b[0minitial_epoch\u001b[0m\u001b[0;34m,\u001b[0m\u001b[0;34m\u001b[0m\u001b[0m\n\u001b[1;32m   1704\u001b[0m                               \u001b[0msteps_per_epoch\u001b[0m\u001b[0;34m=\u001b[0m\u001b[0msteps_per_epoch\u001b[0m\u001b[0;34m,\u001b[0m\u001b[0;34m\u001b[0m\u001b[0m\n\u001b[0;32m-> 1705\u001b[0;31m                               validation_steps=validation_steps)\n\u001b[0m\u001b[1;32m   1706\u001b[0m \u001b[0;34m\u001b[0m\u001b[0m\n\u001b[1;32m   1707\u001b[0m     def evaluate(self, x=None, y=None,\n",
      "\u001b[0;32m/usr/local/lib/python3.5/dist-packages/keras/engine/training.py\u001b[0m in \u001b[0;36m_fit_loop\u001b[0;34m(self, f, ins, out_labels, batch_size, epochs, verbose, callbacks, val_f, val_ins, shuffle, callback_metrics, initial_epoch, steps_per_epoch, validation_steps)\u001b[0m\n\u001b[1;32m   1233\u001b[0m                         \u001b[0mins_batch\u001b[0m\u001b[0;34m[\u001b[0m\u001b[0mi\u001b[0m\u001b[0;34m]\u001b[0m \u001b[0;34m=\u001b[0m \u001b[0mins_batch\u001b[0m\u001b[0;34m[\u001b[0m\u001b[0mi\u001b[0m\u001b[0;34m]\u001b[0m\u001b[0;34m.\u001b[0m\u001b[0mtoarray\u001b[0m\u001b[0;34m(\u001b[0m\u001b[0;34m)\u001b[0m\u001b[0;34m\u001b[0m\u001b[0m\n\u001b[1;32m   1234\u001b[0m \u001b[0;34m\u001b[0m\u001b[0m\n\u001b[0;32m-> 1235\u001b[0;31m                     \u001b[0mouts\u001b[0m \u001b[0;34m=\u001b[0m \u001b[0mf\u001b[0m\u001b[0;34m(\u001b[0m\u001b[0mins_batch\u001b[0m\u001b[0;34m)\u001b[0m\u001b[0;34m\u001b[0m\u001b[0m\n\u001b[0m\u001b[1;32m   1236\u001b[0m                     \u001b[0;32mif\u001b[0m \u001b[0;32mnot\u001b[0m \u001b[0misinstance\u001b[0m\u001b[0;34m(\u001b[0m\u001b[0mouts\u001b[0m\u001b[0;34m,\u001b[0m \u001b[0mlist\u001b[0m\u001b[0;34m)\u001b[0m\u001b[0;34m:\u001b[0m\u001b[0;34m\u001b[0m\u001b[0m\n\u001b[1;32m   1237\u001b[0m                         \u001b[0mouts\u001b[0m \u001b[0;34m=\u001b[0m \u001b[0;34m[\u001b[0m\u001b[0mouts\u001b[0m\u001b[0;34m]\u001b[0m\u001b[0;34m\u001b[0m\u001b[0m\n",
      "\u001b[0;32m/usr/local/lib/python3.5/dist-packages/keras/backend/tensorflow_backend.py\u001b[0m in \u001b[0;36m__call__\u001b[0;34m(self, inputs)\u001b[0m\n\u001b[1;32m   2476\u001b[0m         \u001b[0msession\u001b[0m \u001b[0;34m=\u001b[0m \u001b[0mget_session\u001b[0m\u001b[0;34m(\u001b[0m\u001b[0;34m)\u001b[0m\u001b[0;34m\u001b[0m\u001b[0m\n\u001b[1;32m   2477\u001b[0m         updated = session.run(fetches=fetches, feed_dict=feed_dict,\n\u001b[0;32m-> 2478\u001b[0;31m                               **self.session_kwargs)\n\u001b[0m\u001b[1;32m   2479\u001b[0m         \u001b[0;32mreturn\u001b[0m \u001b[0mupdated\u001b[0m\u001b[0;34m[\u001b[0m\u001b[0;34m:\u001b[0m\u001b[0mlen\u001b[0m\u001b[0;34m(\u001b[0m\u001b[0mself\u001b[0m\u001b[0;34m.\u001b[0m\u001b[0moutputs\u001b[0m\u001b[0;34m)\u001b[0m\u001b[0;34m]\u001b[0m\u001b[0;34m\u001b[0m\u001b[0m\n\u001b[1;32m   2480\u001b[0m \u001b[0;34m\u001b[0m\u001b[0m\n",
      "\u001b[0;32m/usr/local/lib/python3.5/dist-packages/tensorflow/python/client/session.py\u001b[0m in \u001b[0;36mrun\u001b[0;34m(self, fetches, feed_dict, options, run_metadata)\u001b[0m\n\u001b[1;32m    903\u001b[0m     \u001b[0;32mtry\u001b[0m\u001b[0;34m:\u001b[0m\u001b[0;34m\u001b[0m\u001b[0m\n\u001b[1;32m    904\u001b[0m       result = self._run(None, fetches, feed_dict, options_ptr,\n\u001b[0;32m--> 905\u001b[0;31m                          run_metadata_ptr)\n\u001b[0m\u001b[1;32m    906\u001b[0m       \u001b[0;32mif\u001b[0m \u001b[0mrun_metadata\u001b[0m\u001b[0;34m:\u001b[0m\u001b[0;34m\u001b[0m\u001b[0m\n\u001b[1;32m    907\u001b[0m         \u001b[0mproto_data\u001b[0m \u001b[0;34m=\u001b[0m \u001b[0mtf_session\u001b[0m\u001b[0;34m.\u001b[0m\u001b[0mTF_GetBuffer\u001b[0m\u001b[0;34m(\u001b[0m\u001b[0mrun_metadata_ptr\u001b[0m\u001b[0;34m)\u001b[0m\u001b[0;34m\u001b[0m\u001b[0m\n",
      "\u001b[0;32m/usr/local/lib/python3.5/dist-packages/tensorflow/python/client/session.py\u001b[0m in \u001b[0;36m_run\u001b[0;34m(self, handle, fetches, feed_dict, options, run_metadata)\u001b[0m\n\u001b[1;32m   1135\u001b[0m     \u001b[0;32mif\u001b[0m \u001b[0mfinal_fetches\u001b[0m \u001b[0;32mor\u001b[0m \u001b[0mfinal_targets\u001b[0m \u001b[0;32mor\u001b[0m \u001b[0;34m(\u001b[0m\u001b[0mhandle\u001b[0m \u001b[0;32mand\u001b[0m \u001b[0mfeed_dict_tensor\u001b[0m\u001b[0;34m)\u001b[0m\u001b[0;34m:\u001b[0m\u001b[0;34m\u001b[0m\u001b[0m\n\u001b[1;32m   1136\u001b[0m       results = self._do_run(handle, final_targets, final_fetches,\n\u001b[0;32m-> 1137\u001b[0;31m                              feed_dict_tensor, options, run_metadata)\n\u001b[0m\u001b[1;32m   1138\u001b[0m     \u001b[0;32melse\u001b[0m\u001b[0;34m:\u001b[0m\u001b[0;34m\u001b[0m\u001b[0m\n\u001b[1;32m   1139\u001b[0m       \u001b[0mresults\u001b[0m \u001b[0;34m=\u001b[0m \u001b[0;34m[\u001b[0m\u001b[0;34m]\u001b[0m\u001b[0;34m\u001b[0m\u001b[0m\n",
      "\u001b[0;32m/usr/local/lib/python3.5/dist-packages/tensorflow/python/client/session.py\u001b[0m in \u001b[0;36m_do_run\u001b[0;34m(self, handle, target_list, fetch_list, feed_dict, options, run_metadata)\u001b[0m\n\u001b[1;32m   1353\u001b[0m     \u001b[0;32mif\u001b[0m \u001b[0mhandle\u001b[0m \u001b[0;32mis\u001b[0m \u001b[0;32mNone\u001b[0m\u001b[0;34m:\u001b[0m\u001b[0;34m\u001b[0m\u001b[0m\n\u001b[1;32m   1354\u001b[0m       return self._do_call(_run_fn, self._session, feeds, fetches, targets,\n\u001b[0;32m-> 1355\u001b[0;31m                            options, run_metadata)\n\u001b[0m\u001b[1;32m   1356\u001b[0m     \u001b[0;32melse\u001b[0m\u001b[0;34m:\u001b[0m\u001b[0;34m\u001b[0m\u001b[0m\n\u001b[1;32m   1357\u001b[0m       \u001b[0;32mreturn\u001b[0m \u001b[0mself\u001b[0m\u001b[0;34m.\u001b[0m\u001b[0m_do_call\u001b[0m\u001b[0;34m(\u001b[0m\u001b[0m_prun_fn\u001b[0m\u001b[0;34m,\u001b[0m \u001b[0mself\u001b[0m\u001b[0;34m.\u001b[0m\u001b[0m_session\u001b[0m\u001b[0;34m,\u001b[0m \u001b[0mhandle\u001b[0m\u001b[0;34m,\u001b[0m \u001b[0mfeeds\u001b[0m\u001b[0;34m,\u001b[0m \u001b[0mfetches\u001b[0m\u001b[0;34m)\u001b[0m\u001b[0;34m\u001b[0m\u001b[0m\n",
      "\u001b[0;32m/usr/local/lib/python3.5/dist-packages/tensorflow/python/client/session.py\u001b[0m in \u001b[0;36m_do_call\u001b[0;34m(self, fn, *args)\u001b[0m\n\u001b[1;32m   1359\u001b[0m   \u001b[0;32mdef\u001b[0m \u001b[0m_do_call\u001b[0m\u001b[0;34m(\u001b[0m\u001b[0mself\u001b[0m\u001b[0;34m,\u001b[0m \u001b[0mfn\u001b[0m\u001b[0;34m,\u001b[0m \u001b[0;34m*\u001b[0m\u001b[0margs\u001b[0m\u001b[0;34m)\u001b[0m\u001b[0;34m:\u001b[0m\u001b[0;34m\u001b[0m\u001b[0m\n\u001b[1;32m   1360\u001b[0m     \u001b[0;32mtry\u001b[0m\u001b[0;34m:\u001b[0m\u001b[0;34m\u001b[0m\u001b[0m\n\u001b[0;32m-> 1361\u001b[0;31m       \u001b[0;32mreturn\u001b[0m \u001b[0mfn\u001b[0m\u001b[0;34m(\u001b[0m\u001b[0;34m*\u001b[0m\u001b[0margs\u001b[0m\u001b[0;34m)\u001b[0m\u001b[0;34m\u001b[0m\u001b[0m\n\u001b[0m\u001b[1;32m   1362\u001b[0m     \u001b[0;32mexcept\u001b[0m \u001b[0merrors\u001b[0m\u001b[0;34m.\u001b[0m\u001b[0mOpError\u001b[0m \u001b[0;32mas\u001b[0m \u001b[0me\u001b[0m\u001b[0;34m:\u001b[0m\u001b[0;34m\u001b[0m\u001b[0m\n\u001b[1;32m   1363\u001b[0m       \u001b[0mmessage\u001b[0m \u001b[0;34m=\u001b[0m \u001b[0mcompat\u001b[0m\u001b[0;34m.\u001b[0m\u001b[0mas_text\u001b[0m\u001b[0;34m(\u001b[0m\u001b[0me\u001b[0m\u001b[0;34m.\u001b[0m\u001b[0mmessage\u001b[0m\u001b[0;34m)\u001b[0m\u001b[0;34m\u001b[0m\u001b[0m\n",
      "\u001b[0;32m/usr/local/lib/python3.5/dist-packages/tensorflow/python/client/session.py\u001b[0m in \u001b[0;36m_run_fn\u001b[0;34m(session, feed_dict, fetch_list, target_list, options, run_metadata)\u001b[0m\n\u001b[1;32m   1338\u001b[0m         \u001b[0;32melse\u001b[0m\u001b[0;34m:\u001b[0m\u001b[0;34m\u001b[0m\u001b[0m\n\u001b[1;32m   1339\u001b[0m           return tf_session.TF_Run(session, options, feed_dict, fetch_list,\n\u001b[0;32m-> 1340\u001b[0;31m                                    target_list, status, run_metadata)\n\u001b[0m\u001b[1;32m   1341\u001b[0m \u001b[0;34m\u001b[0m\u001b[0m\n\u001b[1;32m   1342\u001b[0m     \u001b[0;32mdef\u001b[0m \u001b[0m_prun_fn\u001b[0m\u001b[0;34m(\u001b[0m\u001b[0msession\u001b[0m\u001b[0;34m,\u001b[0m \u001b[0mhandle\u001b[0m\u001b[0;34m,\u001b[0m \u001b[0mfeed_dict\u001b[0m\u001b[0;34m,\u001b[0m \u001b[0mfetch_list\u001b[0m\u001b[0;34m)\u001b[0m\u001b[0;34m:\u001b[0m\u001b[0;34m\u001b[0m\u001b[0m\n",
      "\u001b[0;31mKeyboardInterrupt\u001b[0m: "
     ]
    }
   ],
   "source": [
    "rnn.fit(X_train_rnn, Y_train_rnn, epochs=500, batch_size = X_train_rnn.shape[0], validation_split=0.2)"
   ]
  },
  {
   "cell_type": "code",
   "execution_count": 69,
   "metadata": {},
   "outputs": [],
   "source": [
    "rnn.save('models/LSTM_Strided/500ep_valacc_97_single_LSTM.h5')"
   ]
  },
  {
   "cell_type": "markdown",
   "metadata": {},
   "source": [
    "### END TO END"
   ]
  },
  {
   "cell_type": "code",
   "execution_count": 16,
   "metadata": {},
   "outputs": [],
   "source": [
    "def end_to_end(input_shape):\n",
    "    X_input = Input(input_shape)\n",
    "    X = TimeDistributed(BatchNormalization(name = 'BatchNorm_1'))(X_input)\n",
    "    X = TimeDistributed(Conv2D(32, (7, 7), strides = (2, 2), activation='relu', name=\"Conv_1a\", padding=\"same\"))(X)\n",
    "    X = TimeDistributed(Conv2D(32, (3, 3), strides = (2, 2), activation='relu', name=\"Conv_1b\", padding=\"same\"))(X)\n",
    "    X = TimeDistributed(MaxPool2D((2, 2), name = \"Pool_1\"))(X)\n",
    "    \n",
    "    X = TimeDistributed(Conv2D(64, (3, 3), name =\"Conv_2a\", activation='relu', padding = \"same\"))(X)\n",
    "    X = TimeDistributed(Conv2D(64, (3, 3), name =\"Conv_2b\", activation='relu', padding = \"same\"))(X)\n",
    "    X = TimeDistributed(MaxPool2D((2, 2), name = \"Pool_2\"))(X)\n",
    "    \n",
    "    X = TimeDistributed(Conv2D(256,(3,3), name='Conv_3a'))(X)\n",
    "    X = TimeDistributed(MaxPool2D((4, 4), name = \"Pool_3\"))(X)\n",
    "\n",
    "    X = TimeDistributed(Flatten())(X)\n",
    "    \n",
    "    X = LSTM(32, return_sequences=True)(X)\n",
    "    X = LSTM(32, return_sequences=False)(X)\n",
    "    X = Dense(9, activation='softmax')(X)\n",
    "    \n",
    "    return Model(X_input,X)\n",
    "    "
   ]
  },
  {
   "cell_type": "code",
   "execution_count": 17,
   "metadata": {},
   "outputs": [],
   "source": [
    "e2e = end_to_end((170, 172, 172, 3))"
   ]
  },
  {
   "cell_type": "code",
   "execution_count": 18,
   "metadata": {
    "collapsed": true
   },
   "outputs": [
    {
     "name": "stdout",
     "output_type": "stream",
     "text": [
      "_________________________________________________________________\n",
      "Layer (type)                 Output Shape              Param #   \n",
      "=================================================================\n",
      "input_1 (InputLayer)         (None, 170, 172, 172, 3)  0         \n",
      "_________________________________________________________________\n",
      "time_distributed_1 (TimeDist (None, 170, 172, 172, 3)  12        \n",
      "_________________________________________________________________\n",
      "time_distributed_2 (TimeDist (None, 170, 86, 86, 32)   4736      \n",
      "_________________________________________________________________\n",
      "time_distributed_3 (TimeDist (None, 170, 43, 43, 32)   9248      \n",
      "_________________________________________________________________\n",
      "time_distributed_4 (TimeDist (None, 170, 21, 21, 32)   0         \n",
      "_________________________________________________________________\n",
      "time_distributed_5 (TimeDist (None, 170, 21, 21, 64)   18496     \n",
      "_________________________________________________________________\n",
      "time_distributed_6 (TimeDist (None, 170, 21, 21, 64)   36928     \n",
      "_________________________________________________________________\n",
      "time_distributed_7 (TimeDist (None, 170, 10, 10, 64)   0         \n",
      "_________________________________________________________________\n",
      "time_distributed_8 (TimeDist (None, 170, 8, 8, 256)    147712    \n",
      "_________________________________________________________________\n",
      "time_distributed_9 (TimeDist (None, 170, 2, 2, 256)    0         \n",
      "_________________________________________________________________\n",
      "time_distributed_10 (TimeDis (None, 170, 1024)         0         \n",
      "_________________________________________________________________\n",
      "lstm_1 (LSTM)                (None, 170, 32)           135296    \n",
      "_________________________________________________________________\n",
      "lstm_2 (LSTM)                (None, 32)                8320      \n",
      "_________________________________________________________________\n",
      "dense_1 (Dense)              (None, 9)                 297       \n",
      "=================================================================\n",
      "Total params: 361,045\n",
      "Trainable params: 361,039\n",
      "Non-trainable params: 6\n",
      "_________________________________________________________________\n"
     ]
    }
   ],
   "source": [
    "e2e.summary()"
   ]
  },
  {
   "cell_type": "code",
   "execution_count": 19,
   "metadata": {},
   "outputs": [],
   "source": [
    "def pad_end_to_end(X_train_images_class,pad_len):\n",
    "    length = X_train_images_class.shape[0]\n",
    "    pad_arr = np.zeros((X_train_images_class.shape[1:4]),dtype=np.uint8)\n",
    "    X_train_images_class = list(X_train_images_class)\n",
    "    for i in range(pad_len-length):\n",
    "        X_train_images_class.append(pad_arr)\n",
    "    return np.array(X_train_images_class,dtype=np.uint8)"
   ]
  },
  {
   "cell_type": "code",
   "execution_count": 20,
   "metadata": {},
   "outputs": [
    {
     "name": "stdout",
     "output_type": "stream",
     "text": [
      "uint8\n"
     ]
    }
   ],
   "source": [
    "a = np.array([[1],[1]],dtype=np.uint8)\n",
    "x = pad_end_to_end(a,5)\n",
    "print(x.dtype)"
   ]
  },
  {
   "cell_type": "code",
   "execution_count": 11,
   "metadata": {},
   "outputs": [],
   "source": [
    "def build_dataset_end_to_end(image_size, pad_len = 170):\n",
    "    X_train_images = []\n",
    "    Y_train_images = []\n",
    "    for i in range(len(classes)):\n",
    "        cls = classes[i]\n",
    "        for j in range(len(videos[i])):\n",
    "            vid = videos[i][j]\n",
    "            video_r = VIDEOS_DIR+cls+'/'+ vid +'/'\n",
    "            image_r = IMAGES_DIR+cls+'/'+ vid +'/'\n",
    "            filelist = sorted(list(os.listdir(image_r)))\n",
    "            X_train_images_class = []\n",
    "            for file in filelist:\n",
    "                if file.endswith(\".png\"):\n",
    "                    image = load_image(image_r+file,image_size)\n",
    "                    X_train_images_class.append(image)\n",
    "            X_train_images_class = pad_end_to_end(np.array(X_train_images_class,dtype=np.uint8),pad_len) # Pad till 170 frames\n",
    "            assert(X_train_images_class.shape == (170,172, 172, 3))\n",
    "            X_train_images.append(X_train_images_class)\n",
    "            Y_train_images.append(i)    \n",
    "            print(\"Processed\",videos[i][j],\"of\",\"class\",classes[i])\n",
    "    return np.array(X_train_images,dtype=np.uint8),np.array(Y_train_images,dtype=np.uint8)"
   ]
  },
  {
   "cell_type": "code",
   "execution_count": 13,
   "metadata": {},
   "outputs": [
    {
     "name": "stdout",
     "output_type": "stream",
     "text": [
      "X and Y not found!\n"
     ]
    },
    {
     "ename": "NameError",
     "evalue": "name 'pad_end_to_end' is not defined",
     "output_type": "error",
     "traceback": [
      "\u001b[0;31m---------------------------------------------------------------------------\u001b[0m",
      "\u001b[0;31mFileNotFoundError\u001b[0m                         Traceback (most recent call last)",
      "\u001b[0;32m<ipython-input-13-f7186f8c90d0>\u001b[0m in \u001b[0;36m<module>\u001b[0;34m()\u001b[0m\n\u001b[1;32m      7\u001b[0m \u001b[0;32mtry\u001b[0m\u001b[0;34m:\u001b[0m\u001b[0;34m\u001b[0m\u001b[0m\n\u001b[0;32m----> 8\u001b[0;31m     \u001b[0mX\u001b[0m \u001b[0;34m=\u001b[0m \u001b[0mnp\u001b[0m\u001b[0;34m.\u001b[0m\u001b[0mload\u001b[0m\u001b[0;34m(\u001b[0m\u001b[0;34m'X_e2e.npy'\u001b[0m\u001b[0;34m)\u001b[0m\u001b[0;34m\u001b[0m\u001b[0m\n\u001b[0m\u001b[1;32m      9\u001b[0m     \u001b[0mY\u001b[0m \u001b[0;34m=\u001b[0m \u001b[0mnp\u001b[0m\u001b[0;34m.\u001b[0m\u001b[0mload\u001b[0m\u001b[0;34m(\u001b[0m\u001b[0;34m'Y_e2e.npy'\u001b[0m\u001b[0;34m)\u001b[0m\u001b[0;34m\u001b[0m\u001b[0m\n",
      "\u001b[0;32m/usr/local/lib/python3.5/dist-packages/numpy/lib/npyio.py\u001b[0m in \u001b[0;36mload\u001b[0;34m(file, mmap_mode, allow_pickle, fix_imports, encoding)\u001b[0m\n\u001b[1;32m    371\u001b[0m     \u001b[0;32mif\u001b[0m \u001b[0misinstance\u001b[0m\u001b[0;34m(\u001b[0m\u001b[0mfile\u001b[0m\u001b[0;34m,\u001b[0m \u001b[0mbasestring\u001b[0m\u001b[0;34m)\u001b[0m\u001b[0;34m:\u001b[0m\u001b[0;34m\u001b[0m\u001b[0m\n\u001b[0;32m--> 372\u001b[0;31m         \u001b[0mfid\u001b[0m \u001b[0;34m=\u001b[0m \u001b[0mopen\u001b[0m\u001b[0;34m(\u001b[0m\u001b[0mfile\u001b[0m\u001b[0;34m,\u001b[0m \u001b[0;34m\"rb\"\u001b[0m\u001b[0;34m)\u001b[0m\u001b[0;34m\u001b[0m\u001b[0m\n\u001b[0m\u001b[1;32m    373\u001b[0m         \u001b[0mown_fid\u001b[0m \u001b[0;34m=\u001b[0m \u001b[0;32mTrue\u001b[0m\u001b[0;34m\u001b[0m\u001b[0m\n",
      "\u001b[0;31mFileNotFoundError\u001b[0m: [Errno 2] No such file or directory: 'X_e2e.npy'",
      "\nDuring handling of the above exception, another exception occurred:\n",
      "\u001b[0;31mNameError\u001b[0m                                 Traceback (most recent call last)",
      "\u001b[0;32m<ipython-input-13-f7186f8c90d0>\u001b[0m in \u001b[0;36m<module>\u001b[0;34m()\u001b[0m\n\u001b[1;32m      9\u001b[0m     \u001b[0mY\u001b[0m \u001b[0;34m=\u001b[0m \u001b[0mnp\u001b[0m\u001b[0;34m.\u001b[0m\u001b[0mload\u001b[0m\u001b[0;34m(\u001b[0m\u001b[0;34m'Y_e2e.npy'\u001b[0m\u001b[0;34m)\u001b[0m\u001b[0;34m\u001b[0m\u001b[0m\n\u001b[1;32m     10\u001b[0m \u001b[0;32mexcept\u001b[0m \u001b[0mFileNotFoundError\u001b[0m\u001b[0;34m:\u001b[0m\u001b[0;34m\u001b[0m\u001b[0m\n\u001b[0;32m---> 11\u001b[0;31m     \u001b[0mX\u001b[0m\u001b[0;34m,\u001b[0m\u001b[0mY\u001b[0m \u001b[0;34m=\u001b[0m \u001b[0mbuild_dataset_end_to_end\u001b[0m\u001b[0;34m(\u001b[0m\u001b[0;34m(\u001b[0m\u001b[0;36m172\u001b[0m\u001b[0;34m,\u001b[0m \u001b[0;36m172\u001b[0m\u001b[0;34m)\u001b[0m\u001b[0;34m)\u001b[0m\u001b[0;34m\u001b[0m\u001b[0m\n\u001b[0m\u001b[1;32m     12\u001b[0m     \u001b[0mnp\u001b[0m\u001b[0;34m.\u001b[0m\u001b[0msave\u001b[0m\u001b[0;34m(\u001b[0m\u001b[0;34m'X_e2e.npy'\u001b[0m\u001b[0;34m,\u001b[0m\u001b[0mX\u001b[0m\u001b[0;34m)\u001b[0m\u001b[0;34m\u001b[0m\u001b[0m\n\u001b[1;32m     13\u001b[0m     \u001b[0mnp\u001b[0m\u001b[0;34m.\u001b[0m\u001b[0msave\u001b[0m\u001b[0;34m(\u001b[0m\u001b[0;34m'Y_e2e.npy'\u001b[0m\u001b[0;34m,\u001b[0m\u001b[0mY\u001b[0m\u001b[0;34m)\u001b[0m\u001b[0;34m\u001b[0m\u001b[0m\n",
      "\u001b[0;32m<ipython-input-11-84ec67b693ee>\u001b[0m in \u001b[0;36mbuild_dataset_end_to_end\u001b[0;34m(image_size, pad_len)\u001b[0m\n\u001b[1;32m     14\u001b[0m                     \u001b[0mimage\u001b[0m \u001b[0;34m=\u001b[0m \u001b[0mload_image\u001b[0m\u001b[0;34m(\u001b[0m\u001b[0mimage_r\u001b[0m\u001b[0;34m+\u001b[0m\u001b[0mfile\u001b[0m\u001b[0;34m,\u001b[0m\u001b[0mimage_size\u001b[0m\u001b[0;34m)\u001b[0m\u001b[0;34m\u001b[0m\u001b[0m\n\u001b[1;32m     15\u001b[0m                     \u001b[0mX_train_images_class\u001b[0m\u001b[0;34m.\u001b[0m\u001b[0mappend\u001b[0m\u001b[0;34m(\u001b[0m\u001b[0mimage\u001b[0m\u001b[0;34m)\u001b[0m\u001b[0;34m\u001b[0m\u001b[0m\n\u001b[0;32m---> 16\u001b[0;31m             \u001b[0mX_train_images_class\u001b[0m \u001b[0;34m=\u001b[0m \u001b[0mpad_end_to_end\u001b[0m\u001b[0;34m(\u001b[0m\u001b[0mnp\u001b[0m\u001b[0;34m.\u001b[0m\u001b[0marray\u001b[0m\u001b[0;34m(\u001b[0m\u001b[0mX_train_images_class\u001b[0m\u001b[0;34m,\u001b[0m\u001b[0mdtype\u001b[0m\u001b[0;34m=\u001b[0m\u001b[0mnp\u001b[0m\u001b[0;34m.\u001b[0m\u001b[0muint8\u001b[0m\u001b[0;34m)\u001b[0m\u001b[0;34m,\u001b[0m\u001b[0mpad_len\u001b[0m\u001b[0;34m)\u001b[0m \u001b[0;31m# Pad till 170 frames\u001b[0m\u001b[0;34m\u001b[0m\u001b[0m\n\u001b[0m\u001b[1;32m     17\u001b[0m             \u001b[0;32massert\u001b[0m\u001b[0;34m(\u001b[0m\u001b[0mX_train_images_class\u001b[0m\u001b[0;34m.\u001b[0m\u001b[0mshape\u001b[0m \u001b[0;34m==\u001b[0m \u001b[0;34m(\u001b[0m\u001b[0;36m170\u001b[0m\u001b[0;34m,\u001b[0m\u001b[0;36m172\u001b[0m\u001b[0;34m,\u001b[0m \u001b[0;36m172\u001b[0m\u001b[0;34m,\u001b[0m \u001b[0;36m3\u001b[0m\u001b[0;34m)\u001b[0m\u001b[0;34m)\u001b[0m\u001b[0;34m\u001b[0m\u001b[0m\n\u001b[1;32m     18\u001b[0m             \u001b[0mX_train_images\u001b[0m\u001b[0;34m.\u001b[0m\u001b[0mappend\u001b[0m\u001b[0;34m(\u001b[0m\u001b[0mX_train_images_class\u001b[0m\u001b[0;34m)\u001b[0m\u001b[0;34m\u001b[0m\u001b[0m\n",
      "\u001b[0;31mNameError\u001b[0m: name 'pad_end_to_end' is not defined"
     ]
    }
   ],
   "source": [
    "try:\n",
    "    del X\n",
    "    del Y\n",
    "except NameError:\n",
    "    print(\"X and Y not found!\")\n",
    "    \n",
    "try:\n",
    "    X = np.load('X_e2e.npy')\n",
    "    Y = np.load('Y_e2e.npy')\n",
    "except FileNotFoundError:    \n",
    "    X,Y = build_dataset_end_to_end((172, 172))\n",
    "    np.save('X_e2e.npy',X)\n",
    "    np.save('Y_e2e.npy',Y)"
   ]
  },
  {
   "cell_type": "code",
   "execution_count": 24,
   "metadata": {},
   "outputs": [
    {
     "name": "stdout",
     "output_type": "stream",
     "text": [
      "(111, 170, 172, 172, 3)\n",
      "(111, 9)\n"
     ]
    }
   ],
   "source": [
    "Y = convert_to_one_hot(Y,9)\n",
    "print(X.shape)\n",
    "print(Y.shape)"
   ]
  },
  {
   "cell_type": "code",
   "execution_count": 25,
   "metadata": {},
   "outputs": [],
   "source": [
    "e2e.compile(loss='categorical_crossentropy', \n",
    "            metrics=['accuracy'], \n",
    "            optimizer='adam')"
   ]
  },
  {
   "cell_type": "code",
   "execution_count": 26,
   "metadata": {},
   "outputs": [],
   "source": [
    "X_train_e2e,Y_train_e2e = permute(X,Y)"
   ]
  },
  {
   "cell_type": "code",
   "execution_count": null,
   "metadata": {},
   "outputs": [
    {
     "name": "stdout",
     "output_type": "stream",
     "text": [
      "Train on 105 samples, validate on 6 samples\n",
      "Epoch 1/5\n"
     ]
    }
   ],
   "source": [
    "e2e.fit(X_train_e2e, Y_train_e2e, epochs=1, batch_size = 8, validation_split=0.05)"
   ]
  },
  {
   "cell_type": "markdown",
   "metadata": {},
   "source": [
    "### ConvMLP"
   ]
  },
  {
   "cell_type": "code",
   "execution_count": null,
   "metadata": {},
   "outputs": [],
   "source": [
    "def ConvMLP(input_shape):\n",
    "    X_input = Input(input_shape)\n",
    "    X = TimeDistributed(BatchNormalization(name = 'BatchNorm_1'))(X_input)\n",
    "    X = TimeDistributed(Conv2D(32, (7, 7), strides = (2, 2), activation='relu', name=\"Conv_1a\", padding=\"same\"))(X)\n",
    "    X = TimeDistributed(Conv2D(32, (3, 3), strides = (2, 2), activation='relu', name=\"Conv_1b\", padding=\"same\"))(X)\n",
    "    X = TimeDistributed(MaxPool2D((2, 2), name = \"Pool_1\"))(X)\n",
    "    \n",
    "    X = TimeDistributed(Conv2D(64, (3, 3), name =\"Conv_2a\", activation='relu', padding = \"same\"))(X)\n",
    "    X = TimeDistributed(Conv2D(64, (3, 3), name =\"Conv_2b\", activation='relu', padding = \"same\"))(X)\n",
    "    X = TimeDistributed(MaxPool2D((2, 2), name = \"Pool_2\"))(X)\n",
    "    \n",
    "    X = TimeDistributed(Conv2D(256,(3,3), name='Conv_3a'))(X)\n",
    "    X = TimeDistributed(MaxPool2D((4, 4), name = \"Pool_3\"))(X)\n",
    "\n",
    "    X = TimeDistributed(Flatten())(X)\n",
    "    \n",
    "    X = LSTM(32, return_sequences=True)(X)\n",
    "    X = LSTM(32, return_sequences=False)(X)\n",
    "    X = Dense(9, activation='softmax')(X)\n",
    "    \n",
    "    return Model(X_input,X)"
   ]
  }
 ],
 "metadata": {
  "kernelspec": {
   "display_name": "Python 3",
   "language": "python",
   "name": "python3"
  },
  "language_info": {
   "codemirror_mode": {
    "name": "ipython",
    "version": 3
   },
   "file_extension": ".py",
   "mimetype": "text/x-python",
   "name": "python",
   "nbconvert_exporter": "python",
   "pygments_lexer": "ipython3",
   "version": "3.5.2"
  }
 },
 "nbformat": 4,
 "nbformat_minor": 2
}
